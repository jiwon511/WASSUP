{
 "cells": [
  {
   "cell_type": "markdown",
   "id": "6f17d151",
   "metadata": {},
   "source": [
    "### Quiz"
   ]
  },
  {
   "cell_type": "markdown",
   "id": "822f98fc",
   "metadata": {},
   "source": [
    "#### Q1. 다음과 같은 리스트를 이용하여 넘파이 배열을 만들고\n",
    "전체 갯수, 차원, 데이터형, 구조를 출력하여라\n",
    "```\n",
    "\n",
    "['강아지', '원숭이', '꽃', '45', '100']\n",
    "\n",
    "array(['강아지', '원숭이', '꽃', '45', '100'], dtype='<U3')\n",
    "차원 ? 1\n",
    "전체 갯수 ? 5\n",
    "데이터형 ? <U3\n",
    "전체 구조  ? (5,)\n",
    "```"
   ]
  },
  {
   "cell_type": "code",
   "execution_count": 1,
   "id": "57a5c6c5-660c-4f82-99a1-a578a300f8cd",
   "metadata": {
    "ExecuteTime": {
     "end_time": "2023-12-18T14:32:09.341118Z",
     "start_time": "2023-12-18T14:32:09.228702Z"
    }
   },
   "outputs": [
    {
     "name": "stdout",
     "output_type": "stream",
     "text": [
      "차원 ?  1\n",
      "전체 갯수 ?  5\n",
      "데이터형 ?  <U3\n",
      "전체 구조 ?  (5,)\n"
     ]
    }
   ],
   "source": [
    "import numpy as np\n",
    "data = ['강아지', '원숭이', '꽃', '45', '100']\n",
    "numpy_array=np.array(data)\n",
    "print('차원 ? ', numpy_array.ndim)\n",
    "print('전체 갯수 ? ',numpy_array.size)\n",
    "print('데이터형 ? ',numpy_array.dtype)\n",
    "print('전체 구조 ? ', numpy_array. shape)"
   ]
  },
  {
   "cell_type": "markdown",
   "id": "e1cef698",
   "metadata": {},
   "source": [
    "#### Q2. np.ones()를 이용하여\n",
    "2행 3열의 넘파이 배열을 생성하여라\n",
    "\n",
    "array([[1., 1., 1.],\n",
    "       [1., 1., 1.]])"
   ]
  },
  {
   "cell_type": "code",
   "execution_count": 3,
   "id": "fc428147-8468-487e-96e3-21141f9dfe88",
   "metadata": {
    "ExecuteTime": {
     "end_time": "2023-12-18T14:33:28.277490Z",
     "start_time": "2023-12-18T14:33:28.269632Z"
    }
   },
   "outputs": [
    {
     "name": "stdout",
     "output_type": "stream",
     "text": [
      "[[1. 1. 1.]\n",
      " [1. 1. 1.]]\n"
     ]
    }
   ],
   "source": [
    "import numpy as np\n",
    "numpy_array=np.ones((2,3)) # 인자로 튜플 들어가야 함\n",
    "print(numpy_array)"
   ]
  },
  {
   "cell_type": "markdown",
   "id": "42c9b79e",
   "metadata": {},
   "source": [
    "#### Q3. np.arange(), np.reshape()를 이용하여\n",
    "다음과 같은 넘파이 배열을 생성하여라\n",
    "```\n",
    "array([[51, 52, 53, 54, 55],\n",
    "       [56, 57, 58, 59, 60],\n",
    "       [61, 62, 63, 64, 65],\n",
    "       [66, 67, 68, 69, 70],\n",
    "       [71, 72, 73, 74, 75],\n",
    "       [76, 77, 78, 79, 80]])\n",
    "```"
   ]
  },
  {
   "cell_type": "code",
   "execution_count": 6,
   "id": "f36d1318-abab-4e6a-8ba3-87e71b36d100",
   "metadata": {
    "ExecuteTime": {
     "end_time": "2023-12-18T14:35:17.503467Z",
     "start_time": "2023-12-18T14:35:17.496962Z"
    }
   },
   "outputs": [
    {
     "name": "stdout",
     "output_type": "stream",
     "text": [
      "[[51 52 53 54 55]\n",
      " [56 57 58 59 60]\n",
      " [61 62 63 64 65]\n",
      " [66 67 68 69 70]\n",
      " [71 72 73 74 75]\n",
      " [76 77 78 79 80]]\n"
     ]
    }
   ],
   "source": [
    "import numpy as np\n",
    "numpy_array=np.arange(51,81)\n",
    "new_array=np.reshape(numpy_array, (6,5))\n",
    "print(new_array)"
   ]
  },
  {
   "cell_type": "markdown",
   "id": "6b0dd4b5",
   "metadata": {},
   "source": [
    "#### Q4. Q3의 넘파이 배열의 자료형을\n",
    "float로 변경하고 데이터형을 출력하여라\n",
    "```\n",
    "array([[51., 52., 53., 54., 55.],\n",
    "       [56., 57., 58., 59., 60.],\n",
    "       [61., 62., 63., 64., 65.],\n",
    "       [66., 67., 68., 69., 70.],\n",
    "       [71., 72., 73., 74., 75.],\n",
    "       [76., 77., 78., 79., 80.]])\n",
    "```\n",
    "-------------------------------------  \n",
    "\n",
    "dtype('float64')"
   ]
  },
  {
   "cell_type": "code",
   "execution_count": 7,
   "id": "200dc541-ca25-4797-a0e8-cec3aae25b4c",
   "metadata": {
    "ExecuteTime": {
     "end_time": "2023-12-18T14:37:47.468993Z",
     "start_time": "2023-12-18T14:37:47.465605Z"
    }
   },
   "outputs": [
    {
     "name": "stdout",
     "output_type": "stream",
     "text": [
      "float64\n"
     ]
    }
   ],
   "source": [
    "import numpy as np\n",
    "numpy_array=np.arange(51,81)\n",
    "new_array=np.reshape(numpy_array, (6,5))\n",
    "new_array_float=new_array.astype(float) #자료형 변경\n",
    "print(new_array_float.dtype)"
   ]
  },
  {
   "cell_type": "markdown",
   "id": "906cf1f4",
   "metadata": {},
   "source": [
    "#### Q5. 다음과 같이 넘파이 배열을 생성한 후 1차원 배열로 변경하고 슬라이싱하여라 \n",
    "\n",
    "```\n",
    "array([[ 1,  4,  5,  6],\n",
    "       [56, 23, 45, 67],\n",
    "       [ 8,  4,  6, 10]])\n",
    "       \n",
    "array([ 1,  4,  5,  6, 56, 23, 45, 67,  8,  4,  6, 10])\n",
    "\n",
    "\n",
    "array([23, 45, 67,  8,  4,  6])\n",
    "```       "
   ]
  },
  {
   "cell_type": "code",
   "execution_count": 8,
   "id": "90724111-e79d-4da8-a30f-bfa15e788f7e",
   "metadata": {
    "ExecuteTime": {
     "end_time": "2023-12-18T14:51:14.443184Z",
     "start_time": "2023-12-18T14:51:14.438680Z"
    }
   },
   "outputs": [
    {
     "name": "stdout",
     "output_type": "stream",
     "text": [
      "[ 1  4  5  6 56 23 45 67  8  4  6 10]\n",
      "[23 45 67  8  4  6 10]\n"
     ]
    }
   ],
   "source": [
    "import numpy as np\n",
    "numpy_array=np.array([[1, 4, 5, 6],\n",
    "                    [56, 23, 45, 67],\n",
    "                    [8, 4, 6, 10]])\n",
    "new_array= numpy_array.flatten()\n",
    "print(new_array)\n",
    "sliced_array=new_array[5:]\n",
    "print(sliced_array)"
   ]
  },
  {
   "cell_type": "markdown",
   "id": "46e67feb",
   "metadata": {},
   "source": [
    "#### Q6. 다음과 같은 넘파이 배열을 생성한 후 아이템을 교체하여라 \n",
    "\n",
    "```\n",
    "array([ 1,  2,  3,  4,  5,  6,  7,  8,  9, 10])\n",
    "\n",
    "array([10,  2,  3,  4,  5,  6,  7,  0,  0,  0])\n",
    "\n",
    "```"
   ]
  },
  {
   "cell_type": "code",
   "execution_count": 12,
   "id": "c7cd6fbe-380b-4e29-98f8-902b110a7207",
   "metadata": {
    "ExecuteTime": {
     "end_time": "2023-12-18T14:57:08.208233Z",
     "start_time": "2023-12-18T14:57:08.203153Z"
    }
   },
   "outputs": [
    {
     "name": "stdout",
     "output_type": "stream",
     "text": [
      "[ 0  1  2  3  4  5  6  7  8  9 10]\n",
      "[10  1  2  3  4  5  6  0  0  0 10]\n"
     ]
    }
   ],
   "source": [
    "import numpy as np\n",
    "numpy_array = np.arange(11)\n",
    "print(numpy_array)\n",
    "numpy_array[0]=10 #아이템 교체\n",
    "numpy_array[7:10]=0\n",
    "print(numpy_array)"
   ]
  },
  {
   "cell_type": "markdown",
   "id": "cf265b90",
   "metadata": {},
   "source": [
    "#### Q7. 2자리의 숫자로 구성된 넘파이 배열(5행5열)을 만들어라. 숫자는 난수를 이용한다. \n",
    "\n",
    "```\n",
    "[[63 85 71 67 15]\n",
    " [31 81 69 17 97]\n",
    " [25 41 33 23 39]\n",
    " [39 43 59 33 43]\n",
    " [23 51 65 91 23]]\n",
    "\n",
    "```"
   ]
  },
  {
   "cell_type": "code",
   "execution_count": 14,
   "id": "0520d5ad-2e3a-4aca-acc5-3f08a08845aa",
   "metadata": {
    "ExecuteTime": {
     "end_time": "2023-12-18T15:00:17.154690Z",
     "start_time": "2023-12-18T15:00:17.150033Z"
    }
   },
   "outputs": [
    {
     "name": "stdout",
     "output_type": "stream",
     "text": [
      "[[99 23 88 78 61]\n",
      " [13 71 89 60 81]\n",
      " [28 13 16 19 64]\n",
      " [89 86 47 91 63]\n",
      " [13 77 57 81 41]]\n"
     ]
    }
   ],
   "source": [
    "import numpy as np\n",
    "numpy_array=np.random.randint(11, 100, size=(5,5)) #수 범위, 배열\n",
    "print(numpy_array)"
   ]
  },
  {
   "cell_type": "markdown",
   "id": "5c5ccecf",
   "metadata": {},
   "source": [
    "#### Q8. 1~100 사이의 정수중 7개의 숫자를 무작위로 추출한 후 가장 큰값과 가장 작은 값을 출력하여라.\n",
    "[91, 65, 14, 66, 65, 98, 34]\n",
    "\n",
    "max = 98\n",
    "min = 14"
   ]
  },
  {
   "cell_type": "code",
   "execution_count": 18,
   "id": "54209548-9daf-4b72-aec9-c6c8c60c7c13",
   "metadata": {
    "ExecuteTime": {
     "end_time": "2023-12-18T15:03:52.608633Z",
     "start_time": "2023-12-18T15:03:52.604379Z"
    }
   },
   "outputs": [
    {
     "name": "stdout",
     "output_type": "stream",
     "text": [
      "[34 67 57 62 29 71 37]\n",
      "max =  71 min =  29\n"
     ]
    }
   ],
   "source": [
    "import numpy as np\n",
    "numpy_array=np.random.randint(1, 101, size=(7,))\n",
    "print(numpy_array)\n",
    "print('max = ', np.max(numpy_array), 'min = ', np.min(numpy_array))"
   ]
  },
  {
   "cell_type": "markdown",
   "id": "24dcaa28",
   "metadata": {},
   "source": [
    "#### Q9. 다음과 같은 3개의 넘파이 배열을 생성한 후 다음과 같이 합쳐라\n",
    "```\n",
    "[[1, 2, 3],\n",
    " [4, 5, 6],\n",
    " [7, 8, 9]]\n",
    "\n",
    "\n",
    "[[11, 12, 13],\n",
    " [14, 15, 16],\n",
    " [17, 18, 19]]\n",
    "\n",
    "\n",
    "[[21, 22, 23],\n",
    " [24, 25, 26],\n",
    " [27, 28, 29]]\n",
    "```\n",
    " ----------\n",
    "  Result1 \n",
    "```\n",
    " [[ 1,  2,  3, 11, 12, 13, 21, 22, 23],\n",
    "  [ 4,  5,  6, 14, 15, 16, 24, 25, 26],\n",
    "  [ 7,  8,  9, 17, 18, 19, 27, 28, 29]] \n",
    "```\n",
    "\n",
    "  ----------\n",
    "  Result2\n",
    "```\n",
    " [[ 1,  2,  3],\n",
    "  [ 4,  5,  6],\n",
    "  [ 7,  8,  9],\n",
    "  [11, 12, 13],\n",
    "  [14, 15, 16],\n",
    "  [17, 18, 19],\n",
    "  [21, 22, 23],\n",
    "  [24, 25, 26],\n",
    "  [27, 28, 29]]\n",
    "```"
   ]
  },
  {
   "cell_type": "code",
   "execution_count": 32,
   "id": "a0442d46-bff4-4b28-b7ff-65ddffd05292",
   "metadata": {
    "ExecuteTime": {
     "end_time": "2023-12-18T15:18:49.077846Z",
     "start_time": "2023-12-18T15:18:49.071758Z"
    }
   },
   "outputs": [
    {
     "name": "stdout",
     "output_type": "stream",
     "text": [
      "[[1 2 3]\n",
      " [4 5 6]\n",
      " [7 8 9]]\n",
      "\n",
      "\n",
      "[[11 12 13]\n",
      " [14 15 16]\n",
      " [17 18 19]]\n",
      "\n",
      "\n",
      "[[21 22 23]\n",
      " [24 25 26]\n",
      " [27 28 29]]\n",
      "\n",
      "\n",
      "[[ 1  2  3 11 12 13 21 22 23]\n",
      " [ 4  5  6 14 15 16 24 25 26]\n",
      " [ 7  8  9 17 18 19 27 28 29]]\n",
      "\n",
      "\n",
      "[[ 1  2  3]\n",
      " [ 4  5  6]\n",
      " [ 7  8  9]\n",
      " [11 12 13]\n",
      " [14 15 16]\n",
      " [17 18 19]\n",
      " [21 22 23]\n",
      " [24 25 26]\n",
      " [27 28 29]]\n"
     ]
    }
   ],
   "source": [
    "import numpy as np\n",
    "array_1=np.arange(1,10).reshape(3,3)\n",
    "print(array_1)\n",
    "print('\\n')\n",
    "array_2=np.arange(11,20).reshape(3,3)\n",
    "print(array_2)\n",
    "print('\\n')\n",
    "array_3=np.arange(21,30).reshape(3,3)\n",
    "print(array_3)\n",
    "print('\\n')\n",
    "result1=np.concatenate((array_1,array_2,array_3),axis=1) #열로 합침\n",
    "print(result1)\n",
    "print('\\n')\n",
    "result2=np.concatenate((array_1,array_2,array_3),axis=0) #행으로 합침\n",
    "print(result2)"
   ]
  },
  {
   "cell_type": "markdown",
   "id": "2d8638be",
   "metadata": {},
   "source": [
    "#### Q10. 아래와 같이 넘파이 배열을 생성한 후 50보다 큰 숫자만 필터링하여라. \n",
    "\n",
    "```\n",
    "arr = np.random.choice(100, 40, replace=False)\n",
    "\n",
    "Before => \n",
    "\n",
    "[40, 63,  8,  2, 35, 84, 72, 48, 78, 86, 87, 58,  0, 49, 14, 55, 11,\n",
    "       73, 39, 26, 75, 27, 99, 46, 25, 22, 34, 83, 24, 47, 31, 57, 62, 19,\n",
    "       36, 15, 17, 10, 98, 90]\n",
    "\n",
    "After =>\n",
    "\n",
    "[63, 84, 72, 78, 86, 87, 58, 55, 73, 75, 99, 83, 57, 62, 98, 90]\n",
    "\n",
    "```"
   ]
  },
  {
   "cell_type": "code",
   "execution_count": 33,
   "id": "03c22039-7e21-48fd-9cba-bec220da6ee2",
   "metadata": {
    "ExecuteTime": {
     "end_time": "2023-12-18T15:49:32.687562Z",
     "start_time": "2023-12-18T15:49:32.681621Z"
    }
   },
   "outputs": [
    {
     "name": "stdout",
     "output_type": "stream",
     "text": [
      "Before =>\n",
      " [77 48 50 90 22 64 10 69 75 53 70 71 18  1 24 27 47 88 67  4 83 12 55 25\n",
      "  7 32 30 74 31 72 81 39 35 80 91 92 33 17 61 84]\n",
      "After =>\n",
      " [77 90 64 69 75 53 70 71 88 67 83 55 74 72 81 80 91 92 61 84]\n"
     ]
    }
   ],
   "source": [
    "arr = np.random.choice(100,40, replace=False) #0-99 숫자 중 중복 없이 선택하여 배열 생성\n",
    "print('Before =>\\n', arr)\n",
    "filtered_arr=arr[arr>50]\n",
    "print('After =>\\n', filtered_arr)"
   ]
  },
  {
   "cell_type": "markdown",
   "id": "249ef810",
   "metadata": {},
   "source": [
    "#### Quiz 11\n",
    "```\n",
    "kor = np.array( [60,55,70,30,20,90])\n",
    "1. 국어점수가 가장큰값을 구하여라\n",
    "2. 국어점수가 80점이상인 값을 구하여라\n",
    "3. 국어 점수가 50점이상 80점 이하인 값을 구하여라\n",
    "4. 국어점수의 평균을 구하여라\n",
    "5. 국어점수의 총합을 구하여라.\n",
    "6. 국어점수가 40점이하인 데이터를 삭제하여라\n",
    "7. 국어점수가 50점이상인 데이터에 가산점 10%를 부여하여라\n",
    "8. 국어점수 top 3를 구하여라\n",
    "9. 국어점수가 70점이상이면 '합격' , 아니면 '불합격으로' 아래와 같이 출력하시요\n",
    "\n",
    "60 '불합격'\n",
    "55 '불합격'\n",
    "```"
   ]
  },
  {
   "cell_type": "code",
   "execution_count": 57,
   "id": "306a7066-dc57-4935-bfcb-56c3c1bf3080",
   "metadata": {
    "ExecuteTime": {
     "end_time": "2023-12-18T16:15:15.442355Z",
     "start_time": "2023-12-18T16:15:15.439647Z"
    }
   },
   "outputs": [
    {
     "name": "stdout",
     "output_type": "stream",
     "text": [
      "90\n"
     ]
    }
   ],
   "source": [
    "#1\n",
    "import numpy as np\n",
    "kor=np.array([60,55,70,30,20,90])\n",
    "print (np.max(kor))"
   ]
  },
  {
   "cell_type": "code",
   "execution_count": 58,
   "id": "4263a93c",
   "metadata": {
    "ExecuteTime": {
     "end_time": "2023-12-18T16:15:31.995598Z",
     "start_time": "2023-12-18T16:15:31.991199Z"
    }
   },
   "outputs": [
    {
     "name": "stdout",
     "output_type": "stream",
     "text": [
      "[90]\n"
     ]
    }
   ],
   "source": [
    "#2\n",
    "import numpy as np\n",
    "kor=np.array([60,55,70,30,20,90])\n",
    "kor_1=kor[kor>=80]\n",
    "print(kor_1)"
   ]
  },
  {
   "cell_type": "code",
   "execution_count": 60,
   "id": "afae9d30",
   "metadata": {
    "ExecuteTime": {
     "end_time": "2023-12-18T16:16:31.582103Z",
     "start_time": "2023-12-18T16:16:31.578644Z"
    }
   },
   "outputs": [
    {
     "name": "stdout",
     "output_type": "stream",
     "text": [
      "[60 55 70]\n"
     ]
    }
   ],
   "source": [
    "#3\n",
    "import numpy as np\n",
    "kor=np.array([60,55,70,30,20,90])\n",
    "kor_2=kor[(50<=kor)&(kor<=80)]\n",
    "print(kor_2)"
   ]
  },
  {
   "cell_type": "code",
   "execution_count": 61,
   "id": "97750983",
   "metadata": {
    "ExecuteTime": {
     "end_time": "2023-12-18T16:16:46.466629Z",
     "start_time": "2023-12-18T16:16:46.463530Z"
    }
   },
   "outputs": [
    {
     "name": "stdout",
     "output_type": "stream",
     "text": [
      "54.166666666666664\n"
     ]
    }
   ],
   "source": [
    "#4\n",
    "import numpy as np\n",
    "kor=np.array([60,55,70,30,20,90])\n",
    "print(np.average(kor))"
   ]
  },
  {
   "cell_type": "code",
   "execution_count": 62,
   "id": "8390c37e",
   "metadata": {
    "ExecuteTime": {
     "end_time": "2023-12-18T16:17:03.198638Z",
     "start_time": "2023-12-18T16:17:03.194856Z"
    }
   },
   "outputs": [
    {
     "name": "stdout",
     "output_type": "stream",
     "text": [
      "325\n"
     ]
    }
   ],
   "source": [
    "#5\n",
    "import numpy as np\n",
    "kor=np.array([60,55,70,30,20,90])\n",
    "print(np.sum(kor))"
   ]
  },
  {
   "cell_type": "code",
   "execution_count": 63,
   "id": "ae2471f6",
   "metadata": {
    "ExecuteTime": {
     "end_time": "2023-12-18T16:17:18.215162Z",
     "start_time": "2023-12-18T16:17:18.211068Z"
    }
   },
   "outputs": [
    {
     "name": "stdout",
     "output_type": "stream",
     "text": [
      "[60 55 70 90]\n"
     ]
    }
   ],
   "source": [
    "#6\n",
    "import numpy as np\n",
    "kor=np.array([60,55,70,30,20,90])\n",
    "kor_3=kor<=40\n",
    "kor_4=np.delete(kor,np.where(kor_3)) #kor에서 40점 이하 삭제\n",
    "print(kor_4)"
   ]
  },
  {
   "cell_type": "code",
   "execution_count": 65,
   "id": "f11a9a4e",
   "metadata": {
    "ExecuteTime": {
     "end_time": "2023-12-18T16:18:15.519882Z",
     "start_time": "2023-12-18T16:18:15.516284Z"
    }
   },
   "outputs": [
    {
     "name": "stdout",
     "output_type": "stream",
     "text": [
      "[66.  60.5 77.  30.  20.  99. ]\n"
     ]
    }
   ],
   "source": [
    "#7\n",
    "import numpy as np\n",
    "kor=np.array([60,55,70,30,20,90])\n",
    "kor=kor.astype(float) #정수형에서는 오류 발생, 실수화\n",
    "kor[kor>=50] += kor[kor>=50]*0.1\n",
    "print(kor)"
   ]
  },
  {
   "cell_type": "code",
   "execution_count": 75,
   "id": "603611d8",
   "metadata": {
    "ExecuteTime": {
     "end_time": "2023-12-18T16:22:46.056568Z",
     "start_time": "2023-12-18T16:22:46.053242Z"
    }
   },
   "outputs": [
    {
     "name": "stdout",
     "output_type": "stream",
     "text": [
      "[90 70 60]\n"
     ]
    }
   ],
   "source": [
    "#8\n",
    "import numpy as np\n",
    "kor=np.array([60,55,70,30,20,90])\n",
    "kor_1=np.sort(kor) #정렬\n",
    "kor_2=kor_1[-3:][::-1] #뒤에서 3개의 원소 선택 후, 역순 나열\n",
    "print(kor_2)"
   ]
  },
  {
   "cell_type": "code",
   "execution_count": 81,
   "id": "45e530b0",
   "metadata": {
    "ExecuteTime": {
     "end_time": "2023-12-18T16:25:56.273194Z",
     "start_time": "2023-12-18T16:25:56.269168Z"
    }
   },
   "outputs": [
    {
     "name": "stdout",
     "output_type": "stream",
     "text": [
      "60 '불합격'\n",
      "55 '불합격'\n",
      "70 '합격'\n",
      "30 '불합격'\n",
      "20 '불합격'\n",
      "90 '합격'\n"
     ]
    }
   ],
   "source": [
    "#9\n",
    "import numpy as np\n",
    "kor=np.array([60,55,70,30,20,90])\n",
    "for score in kor:\n",
    "    result='합격' if score >= 70 else '불합격'\n",
    "    print(f\"{score} '{result}'\") #f스트링, 따옴표 안겹치게 구분"
   ]
  },
  {
   "cell_type": "code",
   "execution_count": null,
   "id": "541763ce",
   "metadata": {},
   "outputs": [],
   "source": []
  }
 ],
 "metadata": {
  "kernelspec": {
   "display_name": "Python 3 (ipykernel)",
   "language": "python",
   "name": "python3"
  },
  "language_info": {
   "codemirror_mode": {
    "name": "ipython",
    "version": 3
   },
   "file_extension": ".py",
   "mimetype": "text/x-python",
   "name": "python",
   "nbconvert_exporter": "python",
   "pygments_lexer": "ipython3",
   "version": "3.11.5"
  },
  "toc": {
   "base_numbering": 1,
   "nav_menu": {},
   "number_sections": true,
   "sideBar": true,
   "skip_h1_title": false,
   "title_cell": "Table of Contents",
   "title_sidebar": "Contents",
   "toc_cell": false,
   "toc_position": {
    "height": "calc(100% - 180px)",
    "left": "10px",
    "top": "150px",
    "width": "165px"
   },
   "toc_section_display": true,
   "toc_window_display": true
  },
  "varInspector": {
   "cols": {
    "lenName": 16,
    "lenType": 16,
    "lenVar": 40
   },
   "kernels_config": {
    "python": {
     "delete_cmd_postfix": "",
     "delete_cmd_prefix": "del ",
     "library": "var_list.py",
     "varRefreshCmd": "print(var_dic_list())"
    },
    "r": {
     "delete_cmd_postfix": ") ",
     "delete_cmd_prefix": "rm(",
     "library": "var_list.r",
     "varRefreshCmd": "cat(var_dic_list()) "
    }
   },
   "types_to_exclude": [
    "module",
    "function",
    "builtin_function_or_method",
    "instance",
    "_Feature"
   ],
   "window_display": false
  }
 },
 "nbformat": 4,
 "nbformat_minor": 5
}
