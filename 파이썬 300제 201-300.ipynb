{
 "cells": [
  {
   "cell_type": "markdown",
   "id": "1d4935e5",
   "metadata": {},
   "source": [
    "# 201-300\n",
    "## 201-210"
   ]
  },
  {
   "cell_type": "code",
   "execution_count": 5,
   "id": "a61761a1",
   "metadata": {},
   "outputs": [],
   "source": [
    "#201\n",
    "def print_coin():\n",
    "    print('비트코인')"
   ]
  },
  {
   "cell_type": "code",
   "execution_count": 6,
   "id": "bafa0653",
   "metadata": {},
   "outputs": [
    {
     "name": "stdout",
     "output_type": "stream",
     "text": [
      "비트코인\n"
     ]
    }
   ],
   "source": [
    "#202\n",
    "def print_coin():\n",
    "    print('비트코인')\n",
    "print_coin()"
   ]
  },
  {
   "cell_type": "code",
   "execution_count": 7,
   "id": "895d8d5c",
   "metadata": {},
   "outputs": [
    {
     "name": "stdout",
     "output_type": "stream",
     "text": [
      "비트코인\n",
      "비트코인\n",
      "비트코인\n",
      "비트코인\n",
      "비트코인\n",
      "비트코인\n",
      "비트코인\n",
      "비트코인\n",
      "비트코인\n",
      "비트코인\n",
      "비트코인\n",
      "비트코인\n",
      "비트코인\n",
      "비트코인\n",
      "비트코인\n",
      "비트코인\n",
      "비트코인\n",
      "비트코인\n",
      "비트코인\n",
      "비트코인\n",
      "비트코인\n",
      "비트코인\n",
      "비트코인\n",
      "비트코인\n",
      "비트코인\n",
      "비트코인\n",
      "비트코인\n",
      "비트코인\n",
      "비트코인\n",
      "비트코인\n",
      "비트코인\n",
      "비트코인\n",
      "비트코인\n",
      "비트코인\n",
      "비트코인\n",
      "비트코인\n",
      "비트코인\n",
      "비트코인\n",
      "비트코인\n",
      "비트코인\n",
      "비트코인\n",
      "비트코인\n",
      "비트코인\n",
      "비트코인\n",
      "비트코인\n",
      "비트코인\n",
      "비트코인\n",
      "비트코인\n",
      "비트코인\n",
      "비트코인\n",
      "비트코인\n",
      "비트코인\n",
      "비트코인\n",
      "비트코인\n",
      "비트코인\n",
      "비트코인\n",
      "비트코인\n",
      "비트코인\n",
      "비트코인\n",
      "비트코인\n",
      "비트코인\n",
      "비트코인\n",
      "비트코인\n",
      "비트코인\n",
      "비트코인\n",
      "비트코인\n",
      "비트코인\n",
      "비트코인\n",
      "비트코인\n",
      "비트코인\n",
      "비트코인\n",
      "비트코인\n",
      "비트코인\n",
      "비트코인\n",
      "비트코인\n",
      "비트코인\n",
      "비트코인\n",
      "비트코인\n",
      "비트코인\n",
      "비트코인\n",
      "비트코인\n",
      "비트코인\n",
      "비트코인\n",
      "비트코인\n",
      "비트코인\n",
      "비트코인\n",
      "비트코인\n",
      "비트코인\n",
      "비트코인\n",
      "비트코인\n",
      "비트코인\n",
      "비트코인\n",
      "비트코인\n",
      "비트코인\n",
      "비트코인\n",
      "비트코인\n",
      "비트코인\n",
      "비트코인\n",
      "비트코인\n",
      "비트코인\n"
     ]
    }
   ],
   "source": [
    "#203\n",
    "def print_coin():\n",
    "    print('비트코인')\n",
    "for i in range(100): #i: 반복을 제어하는 변수, range: 범위 내 숫자 순서대로 생성\n",
    "    print_coin()"
   ]
  },
  {
   "cell_type": "code",
   "execution_count": 8,
   "id": "cc5620db",
   "metadata": {},
   "outputs": [],
   "source": [
    "#204\n",
    "def print_coins():\n",
    "    for i in range(100):\n",
    "        print('비트코인')"
   ]
  },
  {
   "cell_type": "code",
   "execution_count": 9,
   "id": "c54c2899",
   "metadata": {},
   "outputs": [
    {
     "ename": "NameError",
     "evalue": "name 'hello' is not defined",
     "output_type": "error",
     "traceback": [
      "\u001b[1;31m---------------------------------------------------------------------------\u001b[0m",
      "\u001b[1;31mNameError\u001b[0m                                 Traceback (most recent call last)",
      "Cell \u001b[1;32mIn[9], line 2\u001b[0m\n\u001b[0;32m      1\u001b[0m \u001b[38;5;66;03m#205\u001b[39;00m\n\u001b[1;32m----> 2\u001b[0m hello()\n\u001b[0;32m      3\u001b[0m \u001b[38;5;28;01mdef\u001b[39;00m \u001b[38;5;21mhello\u001b[39m():\n\u001b[0;32m      4\u001b[0m     \u001b[38;5;28mprint\u001b[39m(\u001b[38;5;124m\"\u001b[39m\u001b[38;5;124mHi\u001b[39m\u001b[38;5;124m\"\u001b[39m)\n",
      "\u001b[1;31mNameError\u001b[0m: name 'hello' is not defined"
     ]
    }
   ],
   "source": [
    "#205\n",
    "hello()\n",
    "def hello():\n",
    "    print(\"Hi\")\n",
    "#함수 정의를 먼저 하고, 이후에 호출해야 함"
   ]
  },
  {
   "cell_type": "code",
   "execution_count": 11,
   "id": "292f48df",
   "metadata": {},
   "outputs": [
    {
     "name": "stdout",
     "output_type": "stream",
     "text": [
      "A\n",
      "B\n",
      "C\n",
      "A\n",
      "B\n"
     ]
    }
   ],
   "source": [
    "#206\n",
    "def message() :\n",
    "    print(\"A\")\n",
    "    print(\"B\")\n",
    "\n",
    "message()\n",
    "print(\"C\")\n",
    "message() #AB->C->AB순 출력"
   ]
  },
  {
   "cell_type": "code",
   "execution_count": 14,
   "id": "bcb98ea8",
   "metadata": {},
   "outputs": [
    {
     "name": "stdout",
     "output_type": "stream",
     "text": [
      "A\n",
      "C\n",
      "B\n"
     ]
    }
   ],
   "source": [
    "#207\n",
    "print(\"A\")\n",
    "\n",
    "def message() :\n",
    "    print(\"B\")\n",
    "\n",
    "print(\"C\")\n",
    "message() #A->C->B"
   ]
  },
  {
   "cell_type": "code",
   "execution_count": 15,
   "id": "fc9c63a1",
   "metadata": {},
   "outputs": [
    {
     "name": "stdout",
     "output_type": "stream",
     "text": [
      "A\n",
      "C\n",
      "B\n",
      "E\n",
      "D\n"
     ]
    }
   ],
   "source": [
    "#208\n",
    "print(\"A\")\n",
    "def message1() :\n",
    "    print(\"B\")\n",
    "print(\"C\")\n",
    "def message2() :\n",
    "    print(\"D\")\n",
    "message1()\n",
    "print(\"E\")\n",
    "message2() #A->C->B->E->D"
   ]
  },
  {
   "cell_type": "code",
   "execution_count": 16,
   "id": "728a0add",
   "metadata": {},
   "outputs": [
    {
     "name": "stdout",
     "output_type": "stream",
     "text": [
      "B\n",
      "A\n"
     ]
    }
   ],
   "source": [
    "#209\n",
    "def message1():\n",
    "    print(\"A\")\n",
    "\n",
    "def message2():\n",
    "    print(\"B\")\n",
    "    message1()\n",
    "\n",
    "message2() #B->A"
   ]
  },
  {
   "cell_type": "code",
   "execution_count": 17,
   "id": "d1907007",
   "metadata": {},
   "outputs": [
    {
     "name": "stdout",
     "output_type": "stream",
     "text": [
      "B\n",
      "C\n",
      "B\n",
      "C\n",
      "B\n",
      "C\n",
      "A\n"
     ]
    }
   ],
   "source": [
    "#210\n",
    "def message1():\n",
    "    print(\"A\")\n",
    "\n",
    "def message2():\n",
    "    print(\"B\")\n",
    "\n",
    "def message3():\n",
    "    for i in range (3) :\n",
    "        message2()\n",
    "        print(\"C\")\n",
    "    message1()\n",
    "\n",
    "message3() #BC->BC->BC->A"
   ]
  },
  {
   "cell_type": "markdown",
   "id": "35203fa7",
   "metadata": {},
   "source": [
    "## 211-220"
   ]
  },
  {
   "cell_type": "code",
   "execution_count": 18,
   "id": "907f2d71",
   "metadata": {},
   "outputs": [
    {
     "name": "stdout",
     "output_type": "stream",
     "text": [
      "안녕\n",
      "Hi\n"
     ]
    }
   ],
   "source": [
    "#211\n",
    "def 함수(문자열) :\n",
    "    print(문자열)\n",
    "\n",
    "함수(\"안녕\")\n",
    "함수(\"Hi\") #안녕->Hi"
   ]
  },
  {
   "cell_type": "code",
   "execution_count": 19,
   "id": "de6cdc3e",
   "metadata": {},
   "outputs": [
    {
     "name": "stdout",
     "output_type": "stream",
     "text": [
      "7\n",
      "15\n"
     ]
    }
   ],
   "source": [
    "#212\n",
    "def 함수(a, b) :\n",
    "    print(a + b)\n",
    "\n",
    "함수(3, 4)\n",
    "함수(7, 8) #7->15"
   ]
  },
  {
   "cell_type": "code",
   "execution_count": 20,
   "id": "21e38537",
   "metadata": {},
   "outputs": [],
   "source": [
    "#213\n",
    "def 함수(문자열) :\n",
    "    print(문자열) #문자열 할당을 안 함 (파라미터 입력해야 한다)"
   ]
  },
  {
   "cell_type": "code",
   "execution_count": null,
   "id": "a4c3ee3d",
   "metadata": {},
   "outputs": [],
   "source": [
    "#214\n",
    "def 함수(a, b) :\n",
    "    print(a + b)\n",
    "\n",
    "함수(\"안녕\", 3) #문자열은 덧셈 못함"
   ]
  },
  {
   "cell_type": "code",
   "execution_count": 24,
   "id": "2dbb5e8c",
   "metadata": {},
   "outputs": [
    {
     "name": "stdout",
     "output_type": "stream",
     "text": [
      "sleepy:D\n"
     ]
    }
   ],
   "source": [
    "#215\n",
    "def print_with_smile(str):\n",
    "    print(str+\":D\")\n",
    "print_with_smile('sleepy') #따옴표 까먹지 말기!"
   ]
  },
  {
   "cell_type": "code",
   "execution_count": 25,
   "id": "f7c505cd",
   "metadata": {},
   "outputs": [
    {
     "name": "stdout",
     "output_type": "stream",
     "text": [
      "안녕하세요:D\n"
     ]
    }
   ],
   "source": [
    "#216\n",
    "def print_with_smile(str):\n",
    "    print(str+\":D\")\n",
    "print_with_smile('안녕하세요')"
   ]
  },
  {
   "cell_type": "code",
   "execution_count": 27,
   "id": "6793443f",
   "metadata": {},
   "outputs": [
    {
     "name": "stdout",
     "output_type": "stream",
     "text": [
      "1040.0\n"
     ]
    }
   ],
   "source": [
    "#217\n",
    "def print_upper_price(int):\n",
    "    print(int*1.3)\n",
    "print_upper_price(800)"
   ]
  },
  {
   "cell_type": "code",
   "execution_count": 28,
   "id": "4788d201",
   "metadata": {},
   "outputs": [
    {
     "name": "stdout",
     "output_type": "stream",
     "text": [
      "7\n"
     ]
    }
   ],
   "source": [
    "#218\n",
    "def print_sum(a, b):\n",
    "    print(a+b)\n",
    "print_sum(3, 4)"
   ]
  },
  {
   "cell_type": "code",
   "execution_count": 29,
   "id": "77ea5d7d",
   "metadata": {},
   "outputs": [
    {
     "name": "stdout",
     "output_type": "stream",
     "text": [
      "7\n",
      "-1\n",
      "12\n",
      "0.75\n"
     ]
    }
   ],
   "source": [
    "#219\n",
    "def print_arithmetic_operation(a, b):\n",
    "    print(a+b)\n",
    "    print(a-b)\n",
    "    print(a*b)\n",
    "    print(a/b)\n",
    "print_arithmetic_operation(3, 4)"
   ]
  },
  {
   "cell_type": "code",
   "execution_count": 30,
   "id": "f6033853",
   "metadata": {},
   "outputs": [],
   "source": [
    "#220\n",
    "def print_max(a, b, c) :\n",
    "    max_val = 0 #최대값 알 수 없기 때문에 초기값을 0으로 설정\n",
    "    if a > max_val :\n",
    "        max_val = a\n",
    "    if b > max_val :\n",
    "        max_val = b\n",
    "    if c > max_val :\n",
    "        max_val = c\n",
    "    print(max_val)"
   ]
  },
  {
   "cell_type": "markdown",
   "id": "28a6e3d6",
   "metadata": {},
   "source": [
    "## 221-230"
   ]
  },
  {
   "cell_type": "code",
   "execution_count": 32,
   "id": "86b5eca5",
   "metadata": {},
   "outputs": [
    {
     "name": "stdout",
     "output_type": "stream",
     "text": [
      "나로메\n"
     ]
    }
   ],
   "source": [
    "#221\n",
    "def print_reverse(str):\n",
    "    print(str[::-1])\n",
    "print_reverse('메로나')"
   ]
  },
  {
   "cell_type": "code",
   "execution_count": 34,
   "id": "0f5f5f95",
   "metadata": {},
   "outputs": [
    {
     "name": "stdout",
     "output_type": "stream",
     "text": [
      "2.0\n"
     ]
    }
   ],
   "source": [
    "#222\n",
    "def print_score(score_list): #리스트 먼저 정의\n",
    "    print(sum(score_list)/len(score_list))\n",
    "print_score ([1, 2, 3])"
   ]
  },
  {
   "cell_type": "code",
   "execution_count": 35,
   "id": "de06dcad",
   "metadata": {},
   "outputs": [
    {
     "name": "stdout",
     "output_type": "stream",
     "text": [
      "2\n",
      "10\n",
      "12\n"
     ]
    }
   ],
   "source": [
    "#223\n",
    "def print_even(list):\n",
    "    for a in list: #리스트 안의 원소들 조건\n",
    "        if a %2 ==0:\n",
    "            print(a)\n",
    "print_even ([1, 3, 2, 10, 12, 11, 15])\n"
   ]
  },
  {
   "cell_type": "code",
   "execution_count": 37,
   "id": "f323cf8b",
   "metadata": {},
   "outputs": [
    {
     "name": "stdout",
     "output_type": "stream",
     "text": [
      "이름\n",
      "나이\n",
      "성별\n"
     ]
    }
   ],
   "source": [
    "#224\n",
    "def print_keys(dic):\n",
    "    for keys in dic.keys(): #key 지정\n",
    "        print(keys)\n",
    "print_keys ({\"이름\":\"김말똥\", \"나이\":30, \"성별\":0})\n"
   ]
  },
  {
   "cell_type": "code",
   "execution_count": 40,
   "id": "16a1e094",
   "metadata": {},
   "outputs": [
    {
     "name": "stdout",
     "output_type": "stream",
     "text": [
      "[100, 130, 100, 100]\n"
     ]
    }
   ],
   "source": [
    "#225\n",
    "my_dict = {\"10/26\" : [100, 130, 100, 100],\n",
    "           \"10/27\" : [10, 12, 10, 11]} #날짜:키값, OHLC: 리스트(주식값)\n",
    "def print_value_by_key(my_dict, key):\n",
    "    print(my_dict[key])\n",
    "print_value_by_key  (my_dict, \"10/26\")\n"
   ]
  },
  {
   "cell_type": "code",
   "execution_count": 42,
   "id": "dc9f53cf",
   "metadata": {},
   "outputs": [
    {
     "name": "stdout",
     "output_type": "stream",
     "text": [
      "아이엠어보\n",
      "이유알어걸\n",
      "\n"
     ]
    }
   ],
   "source": [
    "#226\n",
    "def print_5xn(line): \n",
    "    chunk_num = int(len(line) / 5) #입력 문자열을 5개씩 묶을 수 있는 청크 개수\n",
    "    for x in range(chunk_num + 1) : #각 청크에 대한 반복문 실행(+1은 나누어 떨어지지 않을 때)\n",
    "        print(line[x * 5: x * 5 + 5]) #각 줄에 5개 문자 출력 (0~5/5~10/...)\n",
    "print_5xn(\"아이엠어보이유알어걸\")\n"
   ]
  },
  {
   "cell_type": "code",
   "execution_count": 44,
   "id": "184bde03",
   "metadata": {},
   "outputs": [
    {
     "name": "stdout",
     "output_type": "stream",
     "text": [
      "아이엠\n",
      "어보이\n",
      "유알어\n",
      "걸\n"
     ]
    }
   ],
   "source": [
    "#227\n",
    "def print_mxn(line,num):\n",
    "    chunk_num=int(len(line)/num)\n",
    "    for x in range(chunk_num +1):\n",
    "        print(line[x*num:x*num+num])\n",
    "print_mxn(\"아이엠어보이유알어걸\", 3)\n"
   ]
  },
  {
   "cell_type": "code",
   "execution_count": 45,
   "id": "d44062f8",
   "metadata": {},
   "outputs": [
    {
     "data": {
      "text/plain": [
       "1000000"
      ]
     },
     "execution_count": 45,
     "metadata": {},
     "output_type": "execute_result"
    }
   ],
   "source": [
    "#228\n",
    "def calc_monthly_salary(annual_salary):\n",
    "    monthly_salary=int(annual_salary/12)\n",
    "    return monthly_salary\n",
    "calc_monthly_salary(12000000) #보통 소수 버려지기 때문에 별도 처리 X"
   ]
  },
  {
   "cell_type": "code",
   "execution_count": 46,
   "id": "2dd16e11",
   "metadata": {},
   "outputs": [
    {
     "name": "stdout",
     "output_type": "stream",
     "text": [
      "왼쪽: 100\n",
      "오른쪽: 200\n"
     ]
    }
   ],
   "source": [
    "#229\n",
    "def my_print (a, b) :\n",
    "    print(\"왼쪽:\", a)\n",
    "    print(\"오른쪽:\", b)\n",
    "\n",
    "my_print(a=100, b=200) #왼쪽: 100, 오른쪽: 200"
   ]
  },
  {
   "cell_type": "code",
   "execution_count": 47,
   "id": "83d4e199",
   "metadata": {},
   "outputs": [
    {
     "name": "stdout",
     "output_type": "stream",
     "text": [
      "왼쪽: 200\n",
      "오른쪽: 100\n"
     ]
    }
   ],
   "source": [
    "#230\n",
    "def my_print (a, b) :\n",
    "    print(\"왼쪽:\", a)\n",
    "    print(\"오른쪽:\", b)\n",
    "\n",
    "my_print(b=100, a=200) #왼쪽:200, 오른쪽:100\n"
   ]
  },
  {
   "cell_type": "markdown",
   "id": "b448be64",
   "metadata": {},
   "source": [
    "## 231-240"
   ]
  },
  {
   "cell_type": "code",
   "execution_count": 48,
   "id": "e91b16ee",
   "metadata": {},
   "outputs": [
    {
     "ename": "NameError",
     "evalue": "name 'result' is not defined",
     "output_type": "error",
     "traceback": [
      "\u001b[1;31m---------------------------------------------------------------------------\u001b[0m",
      "\u001b[1;31mNameError\u001b[0m                                 Traceback (most recent call last)",
      "Cell \u001b[1;32mIn[48], line 6\u001b[0m\n\u001b[0;32m      3\u001b[0m     result \u001b[38;5;241m=\u001b[39m n \u001b[38;5;241m+\u001b[39m \u001b[38;5;241m1\u001b[39m\n\u001b[0;32m      5\u001b[0m n_plus_1(\u001b[38;5;241m3\u001b[39m)\n\u001b[1;32m----> 6\u001b[0m \u001b[38;5;28mprint\u001b[39m (result)\n",
      "\u001b[1;31mNameError\u001b[0m: name 'result' is not defined"
     ]
    }
   ],
   "source": [
    "#231\n",
    "def n_plus_1 (n) :\n",
    "    result = n + 1\n",
    "\n",
    "n_plus_1(3)\n",
    "print (result) #함수 밖에서 접근 불가능 > return 사용해야 함"
   ]
  },
  {
   "cell_type": "code",
   "execution_count": 51,
   "id": "e98057b7",
   "metadata": {},
   "outputs": [
    {
     "data": {
      "text/plain": [
       "'www.naver.com'"
      ]
     },
     "execution_count": 51,
     "metadata": {},
     "output_type": "execute_result"
    }
   ],
   "source": [
    "#232\n",
    "def make_url(string) :\n",
    "    return \"www.\" + string + \".com\"\n",
    "make_url(\"naver\")"
   ]
  },
  {
   "cell_type": "code",
   "execution_count": 14,
   "id": "092dd2b4",
   "metadata": {},
   "outputs": [
    {
     "data": {
      "text/plain": [
       "['a', 'b', 'c', 'd']"
      ]
     },
     "execution_count": 14,
     "metadata": {},
     "output_type": "execute_result"
    }
   ],
   "source": [
    "#233\n",
    "def make_list(str) :\n",
    "    new_list = []\n",
    "    for 문자 in str :\n",
    "        new_list.append(문자)\n",
    "    return new_list\n",
    "\n",
    "make_list(\"abcd\")"
   ]
  },
  {
   "cell_type": "code",
   "execution_count": 1,
   "id": "0ce07ffc",
   "metadata": {},
   "outputs": [
    {
     "data": {
      "text/plain": [
       "[4, 6, 8]"
      ]
     },
     "execution_count": 1,
     "metadata": {},
     "output_type": "execute_result"
    }
   ],
   "source": [
    "#234\n",
    "def pickup_even(items) : #item : 리스트의 각 원소\n",
    "    result = [] #결과값이 숫자만 나오는 게 아닌, [] 안에 포함되도록\n",
    "    for item in items : #리스트 안의 원소들 조건\n",
    "        if item %2 == 0 :\n",
    "            result.append(item)\n",
    "    return result\n",
    "\n",
    "pickup_even([3,4,5,6,7,8])"
   ]
  },
  {
   "cell_type": "code",
   "execution_count": 41,
   "id": "89a2c228",
   "metadata": {},
   "outputs": [
    {
     "name": "stdout",
     "output_type": "stream",
     "text": [
      "[4]\n",
      "[6]\n",
      "[8]\n"
     ]
    }
   ],
   "source": [
    "#234 오류\n",
    "def pickup_even(items) : \n",
    "    for item in items : \n",
    "        if item %2 == 0 :\n",
    "            print([item])\n",
    "\n",
    "pickup_even([3,4,5,6,7,8]) #빈리스트를 만들어 짝수를 찾은 다음 추가후 출력해야 함 "
   ]
  },
  {
   "cell_type": "code",
   "execution_count": 3,
   "id": "8ccad9e7",
   "metadata": {},
   "outputs": [
    {
     "data": {
      "text/plain": [
       "1234567"
      ]
     },
     "execution_count": 3,
     "metadata": {},
     "output_type": "execute_result"
    }
   ],
   "source": [
    "#235\n",
    "def convert_int(str) :\n",
    "    return int(str.replace(',','')) #int 함수 : 문자열을 정수로 변환\n",
    "\n",
    "convert_int('1,234,567')"
   ]
  },
  {
   "cell_type": "code",
   "execution_count": 4,
   "id": "43419485",
   "metadata": {},
   "outputs": [
    {
     "name": "stdout",
     "output_type": "stream",
     "text": [
      "22\n"
     ]
    }
   ],
   "source": [
    "#236\n",
    "def 함수(num) :\n",
    "    return num + 4\n",
    "\n",
    "a = 함수(10)\n",
    "b = 함수(a)\n",
    "c = 함수(b)\n",
    "print(c)"
   ]
  },
  {
   "cell_type": "code",
   "execution_count": 52,
   "id": "d5d46c60",
   "metadata": {},
   "outputs": [
    {
     "name": "stdout",
     "output_type": "stream",
     "text": [
      "22\n"
     ]
    }
   ],
   "source": [
    "#237\n",
    "def 함수(num) :\n",
    "    return num + 4\n",
    "\n",
    "c = 함수(함수(함수(10)))\n",
    "print(c) #22"
   ]
  },
  {
   "cell_type": "code",
   "execution_count": 53,
   "id": "ebdbb07f",
   "metadata": {},
   "outputs": [
    {
     "name": "stdout",
     "output_type": "stream",
     "text": [
      "140\n"
     ]
    }
   ],
   "source": [
    "#238\n",
    "def 함수1(num) :\n",
    "    return num + 4\n",
    "\n",
    "def 함수2(num) :\n",
    "    return num * 10\n",
    "\n",
    "a = 함수1(10)\n",
    "c = 함수2(a)\n",
    "print(c) #140"
   ]
  },
  {
   "cell_type": "code",
   "execution_count": 54,
   "id": "d6029779",
   "metadata": {},
   "outputs": [
    {
     "name": "stdout",
     "output_type": "stream",
     "text": [
      "16\n"
     ]
    }
   ],
   "source": [
    "#239\n",
    "def 함수1(num) :\n",
    "    return num + 4\n",
    "\n",
    "def 함수2(num) :\n",
    "    num = num + 2\n",
    "    return 함수1(num)\n",
    "\n",
    "c = 함수2(10)\n",
    "print(c) #12->16"
   ]
  },
  {
   "cell_type": "code",
   "execution_count": 55,
   "id": "640a75dc",
   "metadata": {},
   "outputs": [
    {
     "name": "stdout",
     "output_type": "stream",
     "text": [
      "28\n"
     ]
    }
   ],
   "source": [
    "#240\n",
    "def 함수0(num) :\n",
    "    return num * 2\n",
    "\n",
    "def 함수1(num) :\n",
    "    return 함수0(num + 2)\n",
    "\n",
    "def 함수2(num) :\n",
    "    num = num + 10\n",
    "    return 함수1(num)\n",
    "\n",
    "c = 함수2(2)\n",
    "print(c) #28"
   ]
  },
  {
   "cell_type": "markdown",
   "id": "c81cae92",
   "metadata": {},
   "source": [
    "## 241-250"
   ]
  },
  {
   "cell_type": "code",
   "execution_count": 1,
   "id": "a8f0d032",
   "metadata": {},
   "outputs": [
    {
     "name": "stdout",
     "output_type": "stream",
     "text": [
      "2023-12-04 17:07:13.254022\n"
     ]
    }
   ],
   "source": [
    "#241\n",
    "import datetime\n",
    "now=datetime.datetime.now()\n",
    "print(now)"
   ]
  },
  {
   "cell_type": "code",
   "execution_count": 2,
   "id": "4fd2dfb7",
   "metadata": {},
   "outputs": [
    {
     "name": "stdout",
     "output_type": "stream",
     "text": [
      "2023-12-04 17:07:55.273498 <class 'datetime.datetime'>\n"
     ]
    }
   ],
   "source": [
    "#242\n",
    "import datetime\n",
    "now=datetime.datetime.now()\n",
    "print(now, type(now))"
   ]
  },
  {
   "cell_type": "code",
   "execution_count": 5,
   "id": "a3f1928d",
   "metadata": {},
   "outputs": [
    {
     "name": "stdout",
     "output_type": "stream",
     "text": [
      "2023-11-29 17:13:18.203140\n",
      "2023-11-30 17:13:18.203140\n",
      "2023-12-01 17:13:18.203140\n",
      "2023-12-02 17:13:18.203140\n",
      "2023-12-03 17:13:18.203140\n"
     ]
    }
   ],
   "source": [
    "#243\n",
    "import datetime\n",
    "now=datetime.datetime.now() #now 변수에 현재 날짜와 시간 할당\n",
    "for day in range(5,0,-1):#0은 미포함, 1일 전까지 할당\n",
    "    delta=datetime.timedelta(days=day) #timedelta: 두 날짜 사이의 간격\n",
    "    date=now - delta\n",
    "    print(date)"
   ]
  },
  {
   "cell_type": "code",
   "execution_count": 6,
   "id": "02d7716c",
   "metadata": {},
   "outputs": [
    {
     "name": "stdout",
     "output_type": "stream",
     "text": [
      "17:14:52\n"
     ]
    }
   ],
   "source": [
    "#244\n",
    "import datetime\n",
    "now=datetime.datetime.now()\n",
    "print(now.strftime('%H:%M:%S')) #객체를 특정 형식의 문자로 포맷팅"
   ]
  },
  {
   "cell_type": "code",
   "execution_count": 10,
   "id": "d5874102",
   "metadata": {},
   "outputs": [
    {
     "name": "stdout",
     "output_type": "stream",
     "text": [
      "2020-05-04 00:00:00 <class 'datetime.datetime'>\n"
     ]
    }
   ],
   "source": [
    "#245\n",
    "import datetime\n",
    "date='2020-05-04'\n",
    "data=datetime.datetime.strptime(date,'%Y-%m-%d') #문자열을 datetime객체로 변환\n",
    "print(data,type(data))"
   ]
  },
  {
   "cell_type": "code",
   "execution_count": null,
   "id": "01d45238",
   "metadata": {},
   "outputs": [],
   "source": [
    "#246\n",
    "import time\n",
    "import datetime\n",
    "while True:\n",
    "    now=datetime.datetime.now()\n",
    "    print(now)\n",
    "    time.sleep(1)\n",
    "    break"
   ]
  },
  {
   "cell_type": "code",
   "execution_count": null,
   "id": "bab531e3",
   "metadata": {},
   "outputs": [],
   "source": [
    "#247\n"
   ]
  },
  {
   "cell_type": "code",
   "execution_count": 2,
   "id": "6841e225",
   "metadata": {},
   "outputs": [
    {
     "name": "stdout",
     "output_type": "stream",
     "text": [
      "C:\\workspace\\python\\WASSUP <class 'str'>\n"
     ]
    }
   ],
   "source": [
    "#248\n",
    "import os\n",
    "data=os.getcwd()\n",
    "print(data,type(data))"
   ]
  },
  {
   "cell_type": "code",
   "execution_count": 8,
   "id": "9f495d62",
   "metadata": {},
   "outputs": [
    {
     "ename": "FileNotFoundError",
     "evalue": "[WinError 3] 지정된 경로를 찾을 수 없습니다: 'C:/Users/Jiwon/OneDrive/바탕화면/practice.txt' -> 'C:/Users/Jiwon/OneDrive/바탕화면/practicenew.txt'",
     "output_type": "error",
     "traceback": [
      "\u001b[1;31m---------------------------------------------------------------------------\u001b[0m",
      "\u001b[1;31mFileNotFoundError\u001b[0m                         Traceback (most recent call last)",
      "Cell \u001b[1;32mIn[8], line 3\u001b[0m\n\u001b[0;32m      1\u001b[0m \u001b[38;5;66;03m#249 \u001b[39;00m\n\u001b[0;32m      2\u001b[0m \u001b[38;5;28;01mimport\u001b[39;00m \u001b[38;5;21;01mos\u001b[39;00m\n\u001b[1;32m----> 3\u001b[0m os\u001b[38;5;241m.\u001b[39mrename(\u001b[38;5;124m\"\u001b[39m\u001b[38;5;124mC:/Users/Jiwon/OneDrive/바탕화면/practice.txt\u001b[39m\u001b[38;5;124m\"\u001b[39m, \u001b[38;5;124m'\u001b[39m\u001b[38;5;124mC:/Users/Jiwon/OneDrive/바탕화면/practicenew.txt\u001b[39m\u001b[38;5;124m'\u001b[39m)\n",
      "\u001b[1;31mFileNotFoundError\u001b[0m: [WinError 3] 지정된 경로를 찾을 수 없습니다: 'C:/Users/Jiwon/OneDrive/바탕화면/practice.txt' -> 'C:/Users/Jiwon/OneDrive/바탕화면/practicenew.txt'"
     ]
    }
   ],
   "source": [
    "#249 \n",
    "import os\n",
    "os.rename(\"C:/Users/Jiwon/OneDrive/바탕화면/practice.txt\", 'C:/Users/Jiwon/OneDrive/바탕화면/practicenew.txt')"
   ]
  },
  {
   "cell_type": "code",
   "execution_count": 6,
   "id": "66cbac14",
   "metadata": {},
   "outputs": [
    {
     "name": "stdout",
     "output_type": "stream",
     "text": [
      "0.0\n",
      "0.1\n",
      "0.2\n",
      "0.3\n",
      "0.4\n",
      "0.5\n",
      "0.6\n",
      "0.7\n",
      "0.8\n",
      "0.9\n",
      "1.0\n",
      "1.1\n",
      "1.2\n",
      "1.3\n",
      "1.4\n",
      "1.5\n",
      "1.6\n",
      "1.7\n",
      "1.8\n",
      "1.9\n",
      "2.0\n",
      "2.1\n",
      "2.2\n",
      "2.3\n",
      "2.4\n",
      "2.5\n",
      "2.6\n",
      "2.7\n",
      "2.8\n",
      "2.9\n",
      "3.0\n",
      "3.1\n",
      "3.2\n",
      "3.3\n",
      "3.4\n",
      "3.5\n",
      "3.6\n",
      "3.7\n",
      "3.8\n",
      "3.9\n",
      "4.0\n",
      "4.1\n",
      "4.2\n",
      "4.3\n",
      "4.4\n",
      "4.5\n",
      "4.6\n",
      "4.7\n",
      "4.8\n",
      "4.9\n"
     ]
    }
   ],
   "source": [
    "#250\n",
    "import numpy\n",
    "for i in numpy.arange(0, 5, 0.1):\n",
    "    print(round(i,2)) #반올림 통해 소수점 2자리까지 출력(부동소수점 조절)"
   ]
  },
  {
   "cell_type": "markdown",
   "id": "65c5db5e",
   "metadata": {},
   "source": [
    "## 251-260"
   ]
  },
  {
   "cell_type": "markdown",
   "id": "92afd97c",
   "metadata": {},
   "source": [
    "#251\n",
    "클래스: 설계도\n",
    "객체: 클래스 바탕으로 만들어진 결과"
   ]
  },
  {
   "cell_type": "code",
   "execution_count": null,
   "id": "6783353d",
   "metadata": {},
   "outputs": [],
   "source": [
    "#252\n",
    "class Human:\n",
    "    pass"
   ]
  },
  {
   "cell_type": "code",
   "execution_count": null,
   "id": "67213311",
   "metadata": {},
   "outputs": [],
   "source": [
    "#253\n",
    "class Human:\n",
    "    pass\n",
    "areum=Human()"
   ]
  },
  {
   "cell_type": "code",
   "execution_count": 1,
   "id": "fd7f4afd",
   "metadata": {},
   "outputs": [
    {
     "name": "stdout",
     "output_type": "stream",
     "text": [
      "응애응애\n"
     ]
    }
   ],
   "source": [
    "#254\n",
    "class Human:\n",
    "    def __init__(self):\n",
    "        print('응애응애')\n",
    "areum=Human()"
   ]
  },
  {
   "cell_type": "code",
   "execution_count": 12,
   "id": "5d87d52a",
   "metadata": {},
   "outputs": [
    {
     "name": "stdout",
     "output_type": "stream",
     "text": [
      "아름\n"
     ]
    }
   ],
   "source": [
    "#255\n",
    "class Human:\n",
    "    def __init__(self,name,age,sex):\n",
    "        self.name=name\n",
    "        self.age=age\n",
    "        self.sex=sex\n",
    "areum= Human('아름',25,'여자')\n",
    "print(areum.name)"
   ]
  },
  {
   "cell_type": "code",
   "execution_count": 13,
   "id": "a450beac",
   "metadata": {},
   "outputs": [
    {
     "name": "stdout",
     "output_type": "stream",
     "text": [
      "25\n"
     ]
    }
   ],
   "source": [
    "#256\n",
    "class Human:\n",
    "    def __init__(self,name,age,sex):\n",
    "        self.name=name\n",
    "        self.age=age\n",
    "        self.sex=sex\n",
    "areum= Human('아름',25,'여자')\n",
    "print(areum.age)"
   ]
  },
  {
   "cell_type": "code",
   "execution_count": 20,
   "id": "407859f1",
   "metadata": {},
   "outputs": [
    {
     "name": "stdout",
     "output_type": "stream",
     "text": [
      "이름: 조아름, 나이: 25, 성별: 여자\n"
     ]
    }
   ],
   "source": [
    "#257\n",
    "class Human:\n",
    "    def __init__(self,name,age,sex):\n",
    "        self.name=name\n",
    "        self.age=age\n",
    "        self.sex=sex\n",
    "    def who(self):\n",
    "        print('이름: {}, 나이: {}, 성별: {}'.format(self.name,self.age,self.sex))\n",
    "areum=Human('조아름',25,'여자')\n",
    "areum.who()"
   ]
  },
  {
   "cell_type": "code",
   "execution_count": 22,
   "id": "7a4bb632",
   "metadata": {},
   "outputs": [
    {
     "name": "stdout",
     "output_type": "stream",
     "text": [
      "이름: 조아름, 나이: 25, 성별: 여자\n"
     ]
    }
   ],
   "source": [
    "class Human:\n",
    "    def __init__(self,name,age,sex):\n",
    "        self.name=name\n",
    "        self.age=age\n",
    "        self.sex=sex\n",
    "    def who(self):\n",
    "        print(f'이름: {self.name}, 나이: {self.age}, 성별: {self.sex}')\n",
    "areum=Human('조아름',25,'여자')\n",
    "areum.who()"
   ]
  },
  {
   "cell_type": "code",
   "execution_count": 26,
   "id": "14ed8f68",
   "metadata": {},
   "outputs": [
    {
     "name": "stdout",
     "output_type": "stream",
     "text": [
      "이름: 불명, 나이: 미상, 성별:모름\n",
      "이름: 아름, 나이: 25, 성별:여자\n"
     ]
    }
   ],
   "source": [
    "#258\n",
    "class Human:\n",
    "    def __init__(self, name, age, sex):\n",
    "        self.name=name\n",
    "        self.age=age\n",
    "        self.sex=sex\n",
    "    def who(self):\n",
    "        print(f'이름: {self.name}, 나이: {self.age}, 성별:{self.sex}')\n",
    "    def SetInfo(self, name, age, sex):\n",
    "        self.name=name\n",
    "        self.age=age\n",
    "        self.sex=sex\n",
    "\n",
    "areum=Human('불명','미상','모름')\n",
    "areum.who()\n",
    "areum.SetInfo('아름',25,'여자')\n",
    "areum.who()"
   ]
  },
  {
   "cell_type": "code",
   "execution_count": 27,
   "id": "05e5a633",
   "metadata": {},
   "outputs": [
    {
     "name": "stdout",
     "output_type": "stream",
     "text": [
      "나의 죽음을 알리지 마라\n"
     ]
    }
   ],
   "source": [
    "#259\n",
    "class Human:\n",
    "    def __init__(self,name,age,sex):\n",
    "        self.name=name\n",
    "        self.age=age\n",
    "        self.sex=sex\n",
    "    def who(self):\n",
    "        print(f'이름: {self.name}, 나이: {self.age}, 성별: {self.sex}')\n",
    "    def __del__(self):\n",
    "        print('나의 죽음을 알리지 마라')\n",
    "\n",
    "areum=Human('아름', 25, '여자')\n",
    "del(areum)"
   ]
  },
  {
   "cell_type": "markdown",
   "id": "e4340bb4",
   "metadata": {},
   "source": [
    "#260\n",
    "매개변수로 self를 받지 않음"
   ]
  },
  {
   "cell_type": "markdown",
   "id": "729db025",
   "metadata": {},
   "source": [
    "## 261-270"
   ]
  },
  {
   "cell_type": "code",
   "execution_count": 28,
   "id": "6a270c46",
   "metadata": {},
   "outputs": [],
   "source": [
    "#261\n",
    "class Stock:\n",
    "    pass"
   ]
  },
  {
   "cell_type": "code",
   "execution_count": 29,
   "id": "c0796d26",
   "metadata": {},
   "outputs": [
    {
     "name": "stdout",
     "output_type": "stream",
     "text": [
      "삼성전자\n",
      "005930\n"
     ]
    }
   ],
   "source": [
    "#262\n",
    "class Stock:\n",
    "    def __init__(self,name,code):\n",
    "        self.name=name\n",
    "        self.code=code\n",
    "삼성 = Stock('삼성전자','005930')\n",
    "print(삼성.name)\n",
    "print(삼성.code)"
   ]
  },
  {
   "cell_type": "code",
   "execution_count": 30,
   "id": "ba9ce3d6",
   "metadata": {},
   "outputs": [
    {
     "name": "stdout",
     "output_type": "stream",
     "text": [
      "삼성전자\n"
     ]
    }
   ],
   "source": [
    "#263\n",
    "class Stock:\n",
    "    def __init__(self,name,code):\n",
    "        self.name=name\n",
    "        self.code=code\n",
    "    def set_name(self,name):\n",
    "        self.name=name\n",
    "a=Stock(None, None)\n",
    "a.set_name('삼성전자')\n",
    "print(a.name)"
   ]
  },
  {
   "cell_type": "code",
   "execution_count": 31,
   "id": "a25ea23a",
   "metadata": {},
   "outputs": [
    {
     "name": "stdout",
     "output_type": "stream",
     "text": [
      "005930\n"
     ]
    }
   ],
   "source": [
    "#264\n",
    "class Stock:\n",
    "    def __init__(self,name,code):\n",
    "        self.name=name\n",
    "        self.code=code\n",
    "    def set_code(self,code):\n",
    "        self.code=code\n",
    "a=Stock(None, None)\n",
    "a.set_code('005930')\n",
    "print(a.code)"
   ]
  },
  {
   "cell_type": "code",
   "execution_count": 36,
   "id": "0c16a612",
   "metadata": {},
   "outputs": [
    {
     "name": "stdout",
     "output_type": "stream",
     "text": [
      "삼성전자 005930\n"
     ]
    }
   ],
   "source": [
    "#265\n",
    "class Stock:\n",
    "    def __init__(self, name, code):\n",
    "        self.name=name\n",
    "        self.code=code\n",
    "    def set_name(self, name):\n",
    "        self.name = name\n",
    "    def set_code(self, code):\n",
    "        self.code = code\n",
    "    def get_name(self,name):\n",
    "        self.name=name\n",
    "    def get_code(self,code):\n",
    "        self.code=code\n",
    "삼성= Stock('삼성전자','005930')\n",
    "print(삼성.name, 삼성.code)"
   ]
  },
  {
   "cell_type": "code",
   "execution_count": 37,
   "id": "db529cde",
   "metadata": {},
   "outputs": [],
   "source": [
    "#266\n",
    "class Stock:\n",
    "    def __init__(self,name,code,per,pbr,배당수익률):\n",
    "        self.name=name\n",
    "        self.code=code\n",
    "        self.per=per\n",
    "        self.pbr=pbr\n",
    "        self.배당수익률=배당수익률\n",
    "    def set_name(self,name):\n",
    "        self.name=name\n",
    "    def set_code(self,code):\n",
    "        self.code=code #float, int와 같은 숫자형 데이터> 특별한 유효성검사 X\n",
    "    def get_name(self,name):\n",
    "        self.name=name\n",
    "    def get_code(self,code):\n",
    "        self.code=code\n"
   ]
  },
  {
   "cell_type": "code",
   "execution_count": 38,
   "id": "efdc6adb",
   "metadata": {},
   "outputs": [
    {
     "name": "stdout",
     "output_type": "stream",
     "text": [
      "삼성전자\n",
      "005930\n",
      "15.79\n",
      "1.33\n",
      "2.83\n"
     ]
    }
   ],
   "source": [
    "#267\n",
    "class Stock:\n",
    "    def __init__(self,name,code,per,pbr,배당수익률):\n",
    "        self.name=name\n",
    "        self.code=code\n",
    "        self.per=per\n",
    "        self.pbr=pbr\n",
    "        self.배당수익률=배당수익률\n",
    "    def set_name(self,name):\n",
    "        self.name=name\n",
    "    def set_code(self,code):\n",
    "        self.code=code \n",
    "    def get_name(self,name):\n",
    "        self.name=name\n",
    "    def get_code(self,code):\n",
    "        self.code=code\n",
    "        \n",
    "삼성=Stock('삼성전자','005930',15.79,1.33,2.83)\n",
    "print(삼성.name)\n",
    "print(삼성.code)\n",
    "print(삼성.per)\n",
    "print(삼성.pbr)\n",
    "print(삼성.배당수익률)"
   ]
  },
  {
   "cell_type": "code",
   "execution_count": 39,
   "id": "42c68015",
   "metadata": {},
   "outputs": [],
   "source": [
    "#268\n",
    "class Stock:\n",
    "    def __init__(self,name,code,per,pbr,dividend):\n",
    "        self.name=name\n",
    "        self.code=code\n",
    "        self.per=per\n",
    "        self.pbr=pbr\n",
    "        self.dividend=dividend\n",
    "    def set_name(self,name):\n",
    "        self.name=name\n",
    "    def set_code(self,code):\n",
    "        self.code=code \n",
    "    def get_name(self,name):\n",
    "        self.name=name\n",
    "    def get_code(self,code):\n",
    "        self.code=code\n",
    "    def set_per(self,per):\n",
    "        self.per=per\n",
    "    def set_pbr(self,pbr):\n",
    "        self.pbr=pbr\n",
    "    def set_dividend(self,dividend):\n",
    "        self.dividend=dividend"
   ]
  },
  {
   "cell_type": "code",
   "execution_count": 41,
   "id": "4223f184",
   "metadata": {},
   "outputs": [
    {
     "name": "stdout",
     "output_type": "stream",
     "text": [
      "12.75\n"
     ]
    }
   ],
   "source": [
    "#269\n",
    "class Stock:\n",
    "    def __init__(self,name,code,per,pbr,dividend):\n",
    "        self.name=name\n",
    "        self.code=code\n",
    "        self.per=per\n",
    "        self.pbr=pbr\n",
    "        self.dividend=dividend\n",
    "    def set_name(self,name):\n",
    "        self.name=name\n",
    "    def set_code(self,code):\n",
    "        self.code=code \n",
    "    def get_name(self,name):\n",
    "        self.name=name\n",
    "    def get_code(self,code):\n",
    "        self.code=code\n",
    "    def set_per(self,per):\n",
    "        self.per=per\n",
    "    def set_pbr(self,pbr):\n",
    "        self.pbr=pbr\n",
    "    def set_dividend(self,dividend):\n",
    "        self.dividend=dividend\n",
    "        \n",
    "삼성=Stock('삼성전자','005930',15.79,1.33,2.83)\n",
    "삼성.set_per(12.75)\n",
    "print(삼성.per)"
   ]
  },
  {
   "cell_type": "code",
   "execution_count": 42,
   "id": "2c156360",
   "metadata": {},
   "outputs": [
    {
     "name": "stdout",
     "output_type": "stream",
     "text": [
      "005930 15.79\n",
      "005380 8.7\n",
      "066570 317.34\n"
     ]
    }
   ],
   "source": [
    "#270\n",
    "종목 = []\n",
    "\n",
    "삼성 = Stock(\"삼성전자\", \"005930\", 15.79, 1.33, 2.83)\n",
    "현대차 = Stock(\"현대차\", \"005380\", 8.70, 0.35, 4.27)\n",
    "LG전자 = Stock(\"LG전자\", \"066570\", 317.34, 0.69, 1.37)\n",
    "\n",
    "종목.append(삼성)\n",
    "종목.append(현대차)\n",
    "종목.append(LG전자)\n",
    "\n",
    "for i in 종목:\n",
    "    print(i.code, i.per)        # i-> Stock 클래스의 객체를 바인딩하기 때문\n",
    "\n"
   ]
  },
  {
   "cell_type": "markdown",
   "id": "d93e9128",
   "metadata": {},
   "source": [
    "## 271-280"
   ]
  },
  {
   "cell_type": "code",
   "execution_count": 1,
   "id": "99bc3176",
   "metadata": {},
   "outputs": [
    {
     "name": "stdout",
     "output_type": "stream",
     "text": [
      "김민수\n",
      "100\n",
      "SC은행\n",
      "166-83-334438\n"
     ]
    }
   ],
   "source": [
    "#271\n",
    "import random #계좌번호 설정 위함\n",
    "\n",
    "class Account:\n",
    "    def __init__(self,name,balance):\n",
    "        self.name=name\n",
    "        self.balance=balance\n",
    "        self.bank='SC은행'\n",
    "        \n",
    "        num1=random.randint(0, 999)\n",
    "        num2=random.randint(0,99)\n",
    "        num3=random.randint(0,999999)\n",
    "        \n",
    "        num1=str(num1).zfill(3)\n",
    "        num2=str(num2).zfill(2)\n",
    "        num3=str(num3).zfill(6)\n",
    "        self.account_number=num1+'-'+num2+'-'+num3\n",
    "        \n",
    "kim = Account('김민수',100)\n",
    "print(kim.name)\n",
    "print(kim.balance)\n",
    "print(kim.bank)\n",
    "print(kim.account_number)"
   ]
  },
  {
   "cell_type": "code",
   "execution_count": 3,
   "id": "149aaec3",
   "metadata": {},
   "outputs": [
    {
     "name": "stdout",
     "output_type": "stream",
     "text": [
      "1\n",
      "2\n"
     ]
    }
   ],
   "source": [
    "#272\n",
    "import random \n",
    "\n",
    "class Account:\n",
    "    account_count=0\n",
    "    def __init__(self,name,balance):\n",
    "        self.name=name\n",
    "        self.balance=balance\n",
    "        self.bank='SC은행'\n",
    "        \n",
    "        num1=random.randint(0, 999)\n",
    "        num2=random.randint(0,99)\n",
    "        num3=random.randint(0,999999)\n",
    "        \n",
    "        num1=str(num1).zfill(3)\n",
    "        num2=str(num2).zfill(2)\n",
    "        num3=str(num3).zfill(6)\n",
    "        self.account_number=num1+'-'+num2+'-'+num3\n",
    "        \n",
    "        Account.account_count += 1\n",
    "        \n",
    "kim = Account('김민수',100)\n",
    "print(Account.account_count)\n",
    "lee=Account('이민수',1000)\n",
    "print(Account.account_count)"
   ]
  },
  {
   "cell_type": "code",
   "execution_count": 4,
   "id": "1380da26",
   "metadata": {
    "scrolled": true
   },
   "outputs": [
    {
     "name": "stdout",
     "output_type": "stream",
     "text": [
      "2\n"
     ]
    }
   ],
   "source": [
    "#273\n",
    "import random \n",
    "\n",
    "class Account:\n",
    "    account_count=0\n",
    "    def __init__(self,name,balance):\n",
    "        self.name=name\n",
    "        self.balance=balance\n",
    "        self.bank='SC은행'\n",
    "        \n",
    "        num1=random.randint(0, 999)\n",
    "        num2=random.randint(0,99)\n",
    "        num3=random.randint(0,999999)\n",
    "        \n",
    "        num1=str(num1).zfill(3)\n",
    "        num2=str(num2).zfill(2)\n",
    "        num3=str(num3).zfill(6)\n",
    "        self.account_number=num1+'-'+num2+'-'+num3\n",
    "        \n",
    "        Account.account_count += 1\n",
    "        \n",
    "    @classmethod #메서드생성\n",
    "    def get_account_num(cls):\n",
    "        print(cls.account_count)\n",
    "        \n",
    "kim = Account('김민수',100)\n",
    "lee=Account('이민수',1000)\n",
    "kim.get_account_num()\n",
    "        "
   ]
  },
  {
   "cell_type": "code",
   "execution_count": 5,
   "id": "304319f2",
   "metadata": {},
   "outputs": [],
   "source": [
    "#274\n",
    "import random \n",
    "\n",
    "class Account:\n",
    "    account_count=0\n",
    "    def __init__(self,name,balance):\n",
    "        self.name=name\n",
    "        self.balance=balance\n",
    "        self.bank='SC은행'\n",
    "        \n",
    "        num1=random.randint(0, 999)\n",
    "        num2=random.randint(0,99)\n",
    "        num3=random.randint(0,999999)\n",
    "        \n",
    "        num1=str(num1).zfill(3)\n",
    "        num2=str(num2).zfill(2)\n",
    "        num3=str(num3).zfill(6)\n",
    "        self.account_number=num1+'-'+num2+'-'+num3\n",
    "        \n",
    "        Account.account_count += 1\n",
    "        \n",
    "    @classmethod #메서드생성\n",
    "    def get_account_num(cls):\n",
    "        print(cls.account_count)\n",
    "        \n",
    "    def deposit(self,amount):\n",
    "        if amount >=1:\n",
    "            self.balance += amount\n",
    "        "
   ]
  },
  {
   "cell_type": "code",
   "execution_count": 6,
   "id": "7d7411f8",
   "metadata": {},
   "outputs": [
    {
     "name": "stdout",
     "output_type": "stream",
     "text": [
      "110\n"
     ]
    }
   ],
   "source": [
    "#275\n",
    "import random \n",
    "\n",
    "class Account:\n",
    "    account_count=0\n",
    "    def __init__(self,name,balance):\n",
    "        self.name=name\n",
    "        self.balance=balance\n",
    "        self.bank='SC은행'\n",
    "        \n",
    "        num1=random.randint(0, 999)\n",
    "        num2=random.randint(0,99)\n",
    "        num3=random.randint(0,999999)\n",
    "        \n",
    "        num1=str(num1).zfill(3)\n",
    "        num2=str(num2).zfill(2)\n",
    "        num3=str(num3).zfill(6)\n",
    "        self.account_number=num1+'-'+num2+'-'+num3\n",
    "        \n",
    "        Account.account_count += 1\n",
    "        \n",
    "    @classmethod #메서드생성\n",
    "    def get_account_num(cls):\n",
    "        print(cls.account_count)\n",
    "        \n",
    "    def deposit(self,amount):\n",
    "        if amount >=1:\n",
    "            self.balance += amount\n",
    "            \n",
    "    def withdraw(self,amount):\n",
    "        if self.balance > amount:\n",
    "            self.balance -= amount\n",
    "            \n",
    "k = Account(\"kim\", 100)\n",
    "k.deposit(100)\n",
    "k.withdraw(90)\n",
    "print(k.balance)"
   ]
  },
  {
   "cell_type": "code",
   "execution_count": 7,
   "id": "536383c9",
   "metadata": {},
   "outputs": [
    {
     "name": "stdout",
     "output_type": "stream",
     "text": [
      "은행이름:  SC은행\n",
      "예금주:  파이썬\n",
      "계좌번호:  313-75-867895\n",
      "잔고:  10,000\n"
     ]
    }
   ],
   "source": [
    "#276\n",
    "import random \n",
    "\n",
    "class Account:\n",
    "    account_count=0\n",
    "    def __init__(self,name,balance):\n",
    "        self.name=name\n",
    "        self.balance=balance\n",
    "        self.bank='SC은행'\n",
    "        \n",
    "        num1=random.randint(0, 999)\n",
    "        num2=random.randint(0,99)\n",
    "        num3=random.randint(0,999999)\n",
    "        \n",
    "        num1=str(num1).zfill(3)\n",
    "        num2=str(num2).zfill(2)\n",
    "        num3=str(num3).zfill(6)\n",
    "        self.account_number=num1+'-'+num2+'-'+num3\n",
    "        \n",
    "        Account.account_count += 1\n",
    "        \n",
    "    @classmethod #메서드생성\n",
    "    def get_account_num(cls):\n",
    "        print(cls.account_count)\n",
    "        \n",
    "    def deposit(self,amount):\n",
    "        if amount >=1:\n",
    "            self.balance += amount\n",
    "            \n",
    "    def withdraw(self,amount):\n",
    "        if self.balance > amount:\n",
    "            self.balance -= amount\n",
    "            \n",
    "    def display_info(self):\n",
    "        print('은행이름: ', self.bank)\n",
    "        print('예금주: ', self.name)\n",
    "        print('계좌번호: ', self.account_number)\n",
    "        print('잔고: ', f'{self.balance:,}') #문자열포맷, 천단위 포맷지정자\n",
    "    \n",
    "p=Account('파이썬', 10000)\n",
    "p.display_info()"
   ]
  },
  {
   "cell_type": "code",
   "execution_count": 9,
   "id": "452455e1",
   "metadata": {},
   "outputs": [
    {
     "name": "stdout",
     "output_type": "stream",
     "text": [
      "50500.0\n"
     ]
    }
   ],
   "source": [
    "#277\n",
    "import random \n",
    "\n",
    "class Account:\n",
    "    account_count=0\n",
    "    def __init__(self,name,balance):\n",
    "        self.deposit_count=0\n",
    "        \n",
    "        self.name=name\n",
    "        self.balance=balance\n",
    "        self.bank='SC은행'\n",
    "        \n",
    "        num1=random.randint(0, 999)\n",
    "        num2=random.randint(0,99)\n",
    "        num3=random.randint(0,999999)\n",
    "        \n",
    "        num1=str(num1).zfill(3)\n",
    "        num2=str(num2).zfill(2)\n",
    "        num3=str(num3).zfill(6)\n",
    "        self.account_number=num1+'-'+num2+'-'+num3\n",
    "        \n",
    "        Account.account_count += 1\n",
    "        \n",
    "    @classmethod #메서드생성\n",
    "    def get_account_num(cls):\n",
    "        print(cls.account_count)\n",
    "        \n",
    "    def deposit(self,amount):\n",
    "        if amount >=1:\n",
    "            self.balance += amount\n",
    "            \n",
    "            self.deposit_count += 1 #입금 횟수 증가\n",
    "            if self.deposit_count %5 == 0:\n",
    "                self.balance = (self.balance*1.01)\n",
    "            \n",
    "            \n",
    "    def withdraw(self,amount):\n",
    "        if self.balance > amount:\n",
    "            self.balance -= amount\n",
    "            \n",
    "    def display_info(self):\n",
    "        print('은행이름: ', self.bank)\n",
    "        print('예금주: ', self.name)\n",
    "        print('계좌번호: ', self.account_number)\n",
    "        print('잔고: ', f'{self.balance:,}') \n",
    "        \n",
    "p = Account(\"파이썬\", 10000)\n",
    "p.deposit(10000)\n",
    "p.deposit(10000)\n",
    "p.deposit(10000)\n",
    "p.deposit(5000)\n",
    "p.deposit(5000)\n",
    "print(p.balance)"
   ]
  },
  {
   "cell_type": "code",
   "execution_count": 11,
   "id": "de6f6a07",
   "metadata": {},
   "outputs": [
    {
     "name": "stdout",
     "output_type": "stream",
     "text": [
      "[<__main__.Account object at 0x0000027F9D468990>, <__main__.Account object at 0x0000027F9E1E06D0>, <__main__.Account object at 0x0000027F9D4D1DD0>]\n"
     ]
    }
   ],
   "source": [
    "#278\n",
    "import random \n",
    "\n",
    "class Account:\n",
    "    account_count=0\n",
    "    def __init__(self,name,balance):\n",
    "        self.deposit_count=0\n",
    "        \n",
    "        self.name=name\n",
    "        self.balance=balance\n",
    "        self.bank='SC은행'\n",
    "        \n",
    "        num1=random.randint(0, 999)\n",
    "        num2=random.randint(0,99)\n",
    "        num3=random.randint(0,999999)\n",
    "        \n",
    "        num1=str(num1).zfill(3)\n",
    "        num2=str(num2).zfill(2)\n",
    "        num3=str(num3).zfill(6)\n",
    "        self.account_number=num1+'-'+num2+'-'+num3\n",
    "        \n",
    "        Account.account_count += 1\n",
    "        \n",
    "    @classmethod #메서드생성\n",
    "    def get_account_num(cls):\n",
    "        print(cls.account_count)\n",
    "        \n",
    "    def deposit(self,amount):\n",
    "        if amount >=1:\n",
    "            self.balance += amount\n",
    "            \n",
    "            self.deposit_count += 1 #입금 횟수 증가\n",
    "            if self.deposit_count %5 == 0:\n",
    "                self.balance = (self.balance*1.01)\n",
    "            \n",
    "            \n",
    "    def withdraw(self,amount):\n",
    "        if self.balance > amount:\n",
    "            self.balance -= amount\n",
    "            \n",
    "    def display_info(self):\n",
    "        print('은행이름: ', self.bank)\n",
    "        print('예금주: ', self.name)\n",
    "        print('계좌번호: ', self.account_number)\n",
    "        print('잔고: ', f'{self.balance:,}') \n",
    "        \n",
    "data = []\n",
    "k = Account(\"KIM\", 10000000)\n",
    "l = Account(\"LEE\", 10000)\n",
    "p = Account(\"PARK\", 10000)\n",
    "\n",
    "data.append(k)\n",
    "data.append(l)\n",
    "data.append(p)\n",
    "\n",
    "print(data)"
   ]
  },
  {
   "cell_type": "code",
   "execution_count": 13,
   "id": "dbfe6cef",
   "metadata": {},
   "outputs": [
    {
     "name": "stdout",
     "output_type": "stream",
     "text": [
      "은행이름:  SC은행\n",
      "예금주:  KIM\n",
      "계좌번호:  877-77-305695\n",
      "잔고:  10,000,000\n"
     ]
    }
   ],
   "source": [
    "#279\n",
    "import random \n",
    "\n",
    "class Account:\n",
    "    account_count=0\n",
    "    def __init__(self,name,balance):\n",
    "        self.deposit_count=0\n",
    "        \n",
    "        self.name=name\n",
    "        self.balance=balance\n",
    "        self.bank='SC은행'\n",
    "        \n",
    "        num1=random.randint(0, 999)\n",
    "        num2=random.randint(0,99)\n",
    "        num3=random.randint(0,999999)\n",
    "        \n",
    "        num1=str(num1).zfill(3)\n",
    "        num2=str(num2).zfill(2)\n",
    "        num3=str(num3).zfill(6)\n",
    "        self.account_number=num1+'-'+num2+'-'+num3\n",
    "        \n",
    "        Account.account_count += 1\n",
    "        \n",
    "    @classmethod #메서드생성\n",
    "    def get_account_num(cls):\n",
    "        print(cls.account_count)\n",
    "        \n",
    "    def deposit(self,amount):\n",
    "        if amount >=1:\n",
    "            self.balance += amount\n",
    "            \n",
    "            self.deposit_count += 1 #입금 횟수 증가\n",
    "            if self.deposit_count %5 == 0:\n",
    "                self.balance = (self.balance*1.01)\n",
    "            \n",
    "            \n",
    "    def withdraw(self,amount):\n",
    "        if self.balance > amount:\n",
    "            self.balance -= amount\n",
    "            \n",
    "    def display_info(self):\n",
    "        print('은행이름: ', self.bank)\n",
    "        print('예금주: ', self.name)\n",
    "        print('계좌번호: ', self.account_number)\n",
    "        print('잔고: ', f'{self.balance:,}') \n",
    "        \n",
    "data = []\n",
    "k = Account(\"KIM\", 10000000)\n",
    "l = Account(\"LEE\", 10000)\n",
    "p = Account(\"PARK\", 10000)\n",
    "\n",
    "data.append(k)\n",
    "data.append(l)\n",
    "data.append(p)\n",
    "\n",
    "for a in data:\n",
    "    if a.balance >= 100000:\n",
    "        a.display_info()"
   ]
  },
  {
   "cell_type": "code",
   "execution_count": 14,
   "id": "a7dc068a",
   "metadata": {},
   "outputs": [
    {
     "name": "stdout",
     "output_type": "stream",
     "text": [
      "100\n",
      "200\n",
      "300\n",
      "100\n",
      "200\n"
     ]
    }
   ],
   "source": [
    "#280\n",
    "import random\n",
    "\n",
    "\n",
    "class Account:\n",
    "    # class variable\n",
    "    account_count = 0\n",
    "\n",
    "    def __init__(self, name, balance):\n",
    "        self.deposit_count = 0\n",
    "        self.deposit_log = []\n",
    "        self.withdraw_log = []\n",
    "\n",
    "        self.name = name\n",
    "        self.balance = balance\n",
    "        self.bank = \"SC은행\"\n",
    "\n",
    "        # 3-2-6\n",
    "        num1 = random.randint(0, 999)\n",
    "        num2 = random.randint(0, 99)\n",
    "        num3 = random.randint(0, 999999)\n",
    "\n",
    "        num1 = str(num1).zfill(3)  # 1 -> '1' -> '001'\n",
    "        num2 = str(num2).zfill(2)  # 1 -> '1' -> '01'\n",
    "        num3 = str(num3).zfill(6)  # 1 -> '1' -> '0000001'\n",
    "        self.account_number = num1 + '-' + num2 + '-' + num3  # 001-01-000001\n",
    "        Account.account_count += 1\n",
    "\n",
    "    @classmethod\n",
    "    def get_account_num(cls):\n",
    "        print(cls.account_count)  # Account.account_count\n",
    "\n",
    "    def deposit(self, amount):\n",
    "        if amount >= 1:\n",
    "            self.deposit_log.append(amount)\n",
    "            self.balance += amount\n",
    "\n",
    "            self.deposit_count += 1\n",
    "            if self.deposit_count % 5 == 0:         # 5, 10, 15\n",
    "                # 이자 지금\n",
    "                self.balance = (self.balance * 1.01)\n",
    "\n",
    "\n",
    "    def withdraw(self, amount):\n",
    "        if self.balance > amount:\n",
    "            self.withdraw_log.append(amount)\n",
    "            self.balance -= amount\n",
    "\n",
    "    def display_info(self):\n",
    "        print(\"은행이름: \", self.bank)\n",
    "        print(\"예금주: \", self.name)\n",
    "        print(\"계좌번호: \", self.account_number)\n",
    "        print(\"잔고: \", self.balance)\n",
    "\n",
    "    def withdraw_history(self):\n",
    "        for amount in self.withdraw_log:\n",
    "            print(amount)\n",
    "\n",
    "    def deposit_history(self):\n",
    "        for amount in self.deposit_log:\n",
    "            print(amount)\n",
    "\n",
    "\n",
    "k = Account(\"Kim\", 1000)\n",
    "k.deposit(100)\n",
    "k.deposit(200)\n",
    "k.deposit(300)\n",
    "k.deposit_history()\n",
    "\n",
    "k.withdraw(100)\n",
    "k.withdraw(200)\n",
    "k.withdraw_history()"
   ]
  },
  {
   "cell_type": "markdown",
   "id": "f25356c2",
   "metadata": {},
   "source": [
    "## 281-290"
   ]
  },
  {
   "cell_type": "code",
   "execution_count": 17,
   "id": "97556b6a",
   "metadata": {},
   "outputs": [
    {
     "name": "stdout",
     "output_type": "stream",
     "text": [
      "2\n",
      "1000\n"
     ]
    }
   ],
   "source": [
    "#281\n",
    "class 차:\n",
    "    def __init__(self,바퀴,가격):\n",
    "        self.바퀴=바퀴\n",
    "        self.가격=가격\n",
    "        \n",
    "car=차(2,1000)\n",
    "print(car.바퀴)\n",
    "print(car.가격)"
   ]
  },
  {
   "cell_type": "code",
   "execution_count": 18,
   "id": "97c27aa5",
   "metadata": {},
   "outputs": [],
   "source": [
    "#282\n",
    "class 차:\n",
    "    def __init__(self,바퀴,가격):\n",
    "        self.바퀴=바퀴\n",
    "        self.가격=가격\n",
    "\n",
    "class 자전거(차):\n",
    "    pass"
   ]
  },
  {
   "cell_type": "code",
   "execution_count": 19,
   "id": "2a3fb5e3",
   "metadata": {},
   "outputs": [
    {
     "name": "stdout",
     "output_type": "stream",
     "text": [
      "100\n"
     ]
    }
   ],
   "source": [
    "#283\n",
    "class 차:\n",
    "    def __init__(self,바퀴,가격):\n",
    "        self.바퀴=바퀴\n",
    "        self.가격=가격\n",
    "\n",
    "class 자전거(차):\n",
    "    def __init__(self,바퀴,가격):\n",
    "        self.바퀴=바퀴\n",
    "        self.가격=가격\n",
    "\n",
    "bicycle=자전거(2,100)\n",
    "print(bicycle.가격)"
   ]
  },
  {
   "cell_type": "code",
   "execution_count": 20,
   "id": "a96565c2",
   "metadata": {},
   "outputs": [
    {
     "name": "stdout",
     "output_type": "stream",
     "text": [
      "시마노\n",
      "2\n"
     ]
    }
   ],
   "source": [
    "#284\n",
    "class 차:\n",
    "    def __init__(self, 바퀴, 가격):\n",
    "        self.바퀴 = 바퀴\n",
    "        self.가격 = 가격\n",
    "\n",
    "\n",
    "class 자전차(차):\n",
    "    def __init__(self, 바퀴, 가격, 구동계):\n",
    "        super().__init__(바퀴, 가격)\n",
    "        #차.__init__(self, 바퀴, 가격) > 부모클래스 호출 통한 상속\n",
    "        self.구동계 = 구동계\n",
    "\n",
    "\n",
    "bicycle = 자전차(2, 100, \"시마노\")\n",
    "print(bicycle.구동계)\n",
    "print(bicycle.바퀴)\n"
   ]
  },
  {
   "cell_type": "code",
   "execution_count": 21,
   "id": "76f37a33",
   "metadata": {},
   "outputs": [
    {
     "name": "stdout",
     "output_type": "stream",
     "text": [
      "바퀴수  4\n",
      "가격  1000\n"
     ]
    }
   ],
   "source": [
    "#285\n",
    "class 차:\n",
    "    def __init__(self, 바퀴, 가격):\n",
    "        self.바퀴 = 바퀴\n",
    "        self.가격 = 가격\n",
    "\n",
    "\n",
    "class 자동차(차):\n",
    "    def __init__(self, 바퀴, 가격):\n",
    "        super().__init__(바퀴, 가격)\n",
    "\n",
    "    def 정보(self):\n",
    "        print(\"바퀴수 \", self.바퀴)\n",
    "        print(\"가격 \", self.가격)\n",
    "\n",
    "\n",
    "car = 자동차(4, 1000)\n",
    "car.정보()\n"
   ]
  },
  {
   "cell_type": "code",
   "execution_count": 22,
   "id": "bc248c45",
   "metadata": {},
   "outputs": [
    {
     "name": "stdout",
     "output_type": "stream",
     "text": [
      "바퀴수  2\n",
      "가격  100\n"
     ]
    }
   ],
   "source": [
    "#286\n",
    "class 차:\n",
    "    def __init__(self, 바퀴, 가격):\n",
    "        self.바퀴 = 바퀴\n",
    "        self.가격 = 가격\n",
    "\n",
    "    def 정보(self):\n",
    "        print(\"바퀴수 \", self.바퀴)\n",
    "        print(\"가격 \", self.가격)\n",
    "\n",
    "class 자동차(차):\n",
    "    def __init__(self, 바퀴, 가격):\n",
    "        super().__init__(바퀴, 가격)\n",
    "\n",
    "class 자전차(차): #부모 클래스 호출\n",
    "    def __init__(self, 바퀴, 가격, 구동계):\n",
    "        super().__init__(바퀴, 가격)\n",
    "        self.구동계 = 구동계\n",
    "\n",
    "bicycle = 자전차(2, 100, \"시마노\")\n",
    "bicycle.정보()"
   ]
  },
  {
   "cell_type": "code",
   "execution_count": 23,
   "id": "2e8052de",
   "metadata": {},
   "outputs": [
    {
     "name": "stdout",
     "output_type": "stream",
     "text": [
      "바퀴수  2\n",
      "가격  100\n",
      "구동계  시마노\n"
     ]
    }
   ],
   "source": [
    "#287\n",
    "class 차:\n",
    "    def __init__(self, 바퀴, 가격):\n",
    "        self.바퀴 = 바퀴\n",
    "        self.가격 = 가격\n",
    "\n",
    "    def 정보(self):\n",
    "        print(\"바퀴수 \", self.바퀴)\n",
    "        print(\"가격 \", self.가격)\n",
    "\n",
    "class 자동차(차):\n",
    "    def __init__(self, 바퀴, 가격):\n",
    "        super().__init__(바퀴, 가격)\n",
    "\n",
    "class 자전차(차): #부모 클래스 호출\n",
    "    def __init__(self, 바퀴, 가격, 구동계):\n",
    "        super().__init__(바퀴, 가격)\n",
    "        self.구동계 = 구동계\n",
    "        \n",
    "    def 정보(self):\n",
    "        super().정보() #객체의 정보를 출력할 필요 없음\n",
    "        print('구동계 ', self.구동계)\n",
    "        \n",
    "bicycle = 자전차(2,100,'시마노')\n",
    "bicycle.정보()"
   ]
  },
  {
   "cell_type": "code",
   "execution_count": 25,
   "id": "85db902d",
   "metadata": {},
   "outputs": [
    {
     "name": "stdout",
     "output_type": "stream",
     "text": [
      "자식호출\n"
     ]
    }
   ],
   "source": [
    "#288\n",
    "class 부모:\n",
    "    def 호출(self):\n",
    "        print(\"부모호출\")\n",
    "\n",
    "class 자식(부모):\n",
    "    def 호출(self):\n",
    "        print(\"자식호출\")\n",
    "\n",
    "\n",
    "나 = 자식()\n",
    "나.호출()"
   ]
  },
  {
   "cell_type": "code",
   "execution_count": 26,
   "id": "bf1bbe73",
   "metadata": {},
   "outputs": [
    {
     "name": "stdout",
     "output_type": "stream",
     "text": [
      "자식생성\n"
     ]
    }
   ],
   "source": [
    "#289\n",
    "class 부모:\n",
    "    def __init__(self):\n",
    "        print(\"부모생성\")\n",
    "\n",
    "class 자식(부모):\n",
    "    def __init__(self):\n",
    "        print(\"자식생성\")\n",
    "\n",
    "나 = 자식()"
   ]
  },
  {
   "cell_type": "code",
   "execution_count": 27,
   "id": "ff6ac997",
   "metadata": {},
   "outputs": [
    {
     "name": "stdout",
     "output_type": "stream",
     "text": [
      "자식생성\n",
      "부모생성\n"
     ]
    }
   ],
   "source": [
    "#290\n",
    "class 부모:\n",
    "    def __init__(self):\n",
    "        print(\"부모생성\")\n",
    "\n",
    "class 자식(부모):\n",
    "    def __init__(self):\n",
    "        print(\"자식생성\")\n",
    "        super().__init__()\n",
    "\n",
    "나 = 자식()"
   ]
  },
  {
   "cell_type": "markdown",
   "id": "4d63fc87",
   "metadata": {},
   "source": [
    "## 291-300"
   ]
  },
  {
   "cell_type": "code",
   "execution_count": 30,
   "id": "caf02833",
   "metadata": {},
   "outputs": [],
   "source": [
    "#291\n",
    "f=open('C:/Users/Jiwon/OneDrive/바탕 화면/매수종목1.txt', mode='w', encoding='utf-8')\n",
    "f.write('005930\\n')\n",
    "f.write('005380\\n')\n",
    "f.write('035420')\n",
    "f.close()"
   ]
  },
  {
   "cell_type": "code",
   "execution_count": 31,
   "id": "79e6cb7e",
   "metadata": {},
   "outputs": [],
   "source": [
    "#292\n",
    "f=open('C:/Users/Jiwon/OneDrive/바탕 화면/매수종목2.txt', mode='w', encoding='utf-8')\n",
    "f.write('005930 삼성전자\\n')\n",
    "f.write('005380 현대차\\n')\n",
    "f.write('035420 NAVER')\n",
    "f.close()"
   ]
  },
  {
   "cell_type": "code",
   "execution_count": 33,
   "id": "09832da7",
   "metadata": {},
   "outputs": [],
   "source": [
    "#293\n",
    "import csv\n",
    "f=open('C:/Users/Jiwon/OneDrive/바탕 화면/매수종목.csv', mode='w', encoding='cp949', newline='')\n",
    "#newline=''는 줄바꿈 문자 처리하지 않음을 의미\n",
    "writer = csv.writer(f) #writer 객체 생성\n",
    "writer.writerow([\"종목명\", \"종목코드\", \"PER\"])\n",
    "writer.writerow([\"삼성전자\", \"005930\", 15.59])\n",
    "writer.writerow([\"NAVER\", \"035420\", 55.82])\n",
    "f.close()"
   ]
  },
  {
   "cell_type": "code",
   "execution_count": 37,
   "id": "6d76cc10",
   "metadata": {},
   "outputs": [
    {
     "name": "stdout",
     "output_type": "stream",
     "text": [
      "['005930', '005380', '035420']\n"
     ]
    }
   ],
   "source": [
    "#294\n",
    "f=open('C:/Users/Jiwon/OneDrive/바탕 화면/매수종목1.txt', encoding='utf-8')\n",
    "lines = f.readlines() \n",
    "\n",
    "codes = []\n",
    "for line in lines:\n",
    "    code = line.strip()\n",
    "    codes.append(code)\n",
    "    \n",
    "print(codes)\n",
    "\n",
    "f.close()"
   ]
  },
  {
   "cell_type": "code",
   "execution_count": 38,
   "id": "33706e78",
   "metadata": {},
   "outputs": [
    {
     "name": "stdout",
     "output_type": "stream",
     "text": [
      "{}\n"
     ]
    }
   ],
   "source": [
    "#295\n",
    "f=open('C:/Users/Jiwon/OneDrive/바탕 화면/매수종목2.txt', encoding='utf-8')\n",
    "lines = f.readlines() #한 줄로 가져옴 > 파일 내용을 리스트로 만들 수 있다\n",
    "data={} #딕셔너리\n",
    "for line in lines:\n",
    "    line=line.strip() #줄바꿈제거\n",
    "    k, v = line.split() #공백 기준으로 문자열 나누어 키와 값 구분\n",
    "    data[k] = v #쌍 출력\n",
    "    \n",
    "print(data)\n",
    "f.close()"
   ]
  },
  {
   "cell_type": "code",
   "execution_count": 39,
   "id": "091e418f",
   "metadata": {},
   "outputs": [
    {
     "name": "stdout",
     "output_type": "stream",
     "text": [
      "10.31\n",
      "0\n",
      "8.0\n"
     ]
    }
   ],
   "source": [
    "#296\n",
    "per = [\"10.31\", \"\", \"8.00\"]\n",
    "\n",
    "for i in per:\n",
    "    try:\n",
    "        print(float(i))\n",
    "    except:\n",
    "        print(0)"
   ]
  },
  {
   "cell_type": "code",
   "execution_count": 40,
   "id": "c609fd91",
   "metadata": {},
   "outputs": [
    {
     "name": "stdout",
     "output_type": "stream",
     "text": [
      "[10.31, 0, 8.0]\n"
     ]
    }
   ],
   "source": [
    "#297\n",
    "per = [\"10.31\", \"\", \"8.00\"]\n",
    "new_per = []\n",
    "\n",
    "for i in per:\n",
    "    try:\n",
    "        v = float(i)\n",
    "    except:\n",
    "        v = 0\n",
    "    new_per.append(v) #변환된 숫자를 new_per 리스트에 추가\n",
    "\n",
    "print(new_per)"
   ]
  },
  {
   "cell_type": "code",
   "execution_count": 41,
   "id": "c7a4524b",
   "metadata": {},
   "outputs": [
    {
     "name": "stdout",
     "output_type": "stream",
     "text": [
      "0으로 나누면 안됨\n"
     ]
    }
   ],
   "source": [
    "#298\n",
    "try:\n",
    "    b = 3 / 0\n",
    "except ZeroDivisionError:\n",
    "    print(\"0으로 나누면 안됨\")"
   ]
  },
  {
   "cell_type": "code",
   "execution_count": 42,
   "id": "8711893e",
   "metadata": {},
   "outputs": [
    {
     "name": "stdout",
     "output_type": "stream",
     "text": [
      "1\n",
      "2\n",
      "3\n",
      "list index out of range\n",
      "list index out of range\n"
     ]
    }
   ],
   "source": [
    "#299\n",
    "data = [1, 2, 3]\n",
    "\n",
    "for i in range(5):\n",
    "    try:\n",
    "        print(data[i])\n",
    "    except IndexError as e:\n",
    "        print(e)"
   ]
  },
  {
   "cell_type": "code",
   "execution_count": 43,
   "id": "cdb7f684",
   "metadata": {},
   "outputs": [
    {
     "name": "stdout",
     "output_type": "stream",
     "text": [
      "10.31\n",
      "예외 없음\n",
      "완료\n",
      "0\n",
      "완료\n",
      "8.0\n",
      "예외 없음\n",
      "완료\n"
     ]
    }
   ],
   "source": [
    "#300\n",
    "per = [\"10.31\", \"\", \"8.00\"]\n",
    "\n",
    "for i in per:\n",
    "    try:\n",
    "        print(float(i))\n",
    "    except:\n",
    "        print(0)\n",
    "    else:\n",
    "        print(\"예외 없음\")\n",
    "    finally:\n",
    "        print(\"완료\")"
   ]
  },
  {
   "cell_type": "code",
   "execution_count": null,
   "id": "e33cb4ea",
   "metadata": {},
   "outputs": [],
   "source": []
  }
 ],
 "metadata": {
  "kernelspec": {
   "display_name": "Python 3 (ipykernel)",
   "language": "python",
   "name": "python3"
  },
  "language_info": {
   "codemirror_mode": {
    "name": "ipython",
    "version": 3
   },
   "file_extension": ".py",
   "mimetype": "text/x-python",
   "name": "python",
   "nbconvert_exporter": "python",
   "pygments_lexer": "ipython3",
   "version": "3.11.5"
  },
  "toc": {
   "base_numbering": 1,
   "nav_menu": {},
   "number_sections": true,
   "sideBar": true,
   "skip_h1_title": false,
   "title_cell": "Table of Contents",
   "title_sidebar": "Contents",
   "toc_cell": false,
   "toc_position": {},
   "toc_section_display": true,
   "toc_window_display": false
  }
 },
 "nbformat": 4,
 "nbformat_minor": 5
}
