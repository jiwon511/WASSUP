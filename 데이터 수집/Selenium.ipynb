{
 "cells": [
  {
   "cell_type": "markdown",
   "id": "778e42ed",
   "metadata": {},
   "source": [
    "# Selenium 사용"
   ]
  },
  {
   "cell_type": "code",
   "execution_count": 1,
   "id": "380de953",
   "metadata": {
    "ExecuteTime": {
     "end_time": "2023-12-12T01:13:02.327825Z",
     "start_time": "2023-12-12T01:12:13.490035Z"
    },
    "scrolled": true
   },
   "outputs": [
    {
     "name": "stdout",
     "output_type": "stream",
     "text": [
      "Collecting selenium\n",
      "  Obtaining dependency information for selenium from https://files.pythonhosted.org/packages/dc/72/96b5afa16908f9abc7c24b70adfd3a46c9740eb728ddfeab28379e38eaf9/selenium-4.16.0-py3-none-any.whl.metadata\n",
      "  Downloading selenium-4.16.0-py3-none-any.whl.metadata (6.9 kB)\n",
      "Requirement already satisfied: urllib3[socks]<3,>=1.26 in c:\\users\\samsung\\anaconda3\\lib\\site-packages (from selenium) (1.26.16)\n",
      "Collecting trio~=0.17 (from selenium)\n",
      "  Obtaining dependency information for trio~=0.17 from https://files.pythonhosted.org/packages/39/46/620fbe56f41fa3ccdda2136d947fb9bacce3d1eb163f057f0262a0ddf5e0/trio-0.23.1-py3-none-any.whl.metadata\n",
      "  Downloading trio-0.23.1-py3-none-any.whl.metadata (4.9 kB)\n",
      "Collecting trio-websocket~=0.9 (from selenium)\n",
      "  Obtaining dependency information for trio-websocket~=0.9 from https://files.pythonhosted.org/packages/48/be/a9ae5f50cad5b6f85bd2574c2c923730098530096e170c1ce7452394d7aa/trio_websocket-0.11.1-py3-none-any.whl.metadata\n",
      "  Downloading trio_websocket-0.11.1-py3-none-any.whl.metadata (4.7 kB)\n",
      "Requirement already satisfied: certifi>=2021.10.8 in c:\\users\\samsung\\anaconda3\\lib\\site-packages (from selenium) (2023.7.22)\n",
      "Requirement already satisfied: attrs>=20.1.0 in c:\\users\\samsung\\anaconda3\\lib\\site-packages (from trio~=0.17->selenium) (22.1.0)\n",
      "Requirement already satisfied: sortedcontainers in c:\\users\\samsung\\anaconda3\\lib\\site-packages (from trio~=0.17->selenium) (2.4.0)\n",
      "Requirement already satisfied: idna in c:\\users\\samsung\\anaconda3\\lib\\site-packages (from trio~=0.17->selenium) (3.4)\n",
      "Collecting outcome (from trio~=0.17->selenium)\n",
      "  Obtaining dependency information for outcome from https://files.pythonhosted.org/packages/55/8b/5ab7257531a5d830fc8000c476e63c935488d74609b50f9384a643ec0a62/outcome-1.3.0.post0-py2.py3-none-any.whl.metadata\n",
      "  Downloading outcome-1.3.0.post0-py2.py3-none-any.whl.metadata (2.6 kB)\n",
      "Collecting sniffio>=1.3.0 (from trio~=0.17->selenium)\n",
      "  Downloading sniffio-1.3.0-py3-none-any.whl (10 kB)\n",
      "Requirement already satisfied: cffi>=1.14 in c:\\users\\samsung\\anaconda3\\lib\\site-packages (from trio~=0.17->selenium) (1.15.1)\n",
      "Collecting wsproto>=0.14 (from trio-websocket~=0.9->selenium)\n",
      "  Downloading wsproto-1.2.0-py3-none-any.whl (24 kB)\n",
      "Requirement already satisfied: PySocks!=1.5.7,<2.0,>=1.5.6 in c:\\users\\samsung\\anaconda3\\lib\\site-packages (from urllib3[socks]<3,>=1.26->selenium) (1.7.1)\n",
      "Requirement already satisfied: pycparser in c:\\users\\samsung\\anaconda3\\lib\\site-packages (from cffi>=1.14->trio~=0.17->selenium) (2.21)\n",
      "Requirement already satisfied: h11<1,>=0.9.0 in c:\\users\\samsung\\anaconda3\\lib\\site-packages (from wsproto>=0.14->trio-websocket~=0.9->selenium) (0.14.0)\n",
      "Downloading selenium-4.16.0-py3-none-any.whl (10.0 MB)\n",
      "   ---------------------------------------- 0.0/10.0 MB ? eta -:--:--\n",
      "   ------- -------------------------------- 2.0/10.0 MB 31.4 MB/s eta 0:00:01\n",
      "   --------------------- ------------------ 5.3/10.0 MB 28.2 MB/s eta 0:00:01\n",
      "   ----------------------------- ---------- 7.4/10.0 MB 27.8 MB/s eta 0:00:01\n",
      "   --------------------------------- ------ 8.4/10.0 MB 25.6 MB/s eta 0:00:01\n",
      "   ------------------------------------ --- 9.0/10.0 MB 23.2 MB/s eta 0:00:01\n",
      "   ---------------------------------------  10.0/10.0 MB 22.0 MB/s eta 0:00:01\n",
      "   ---------------------------------------  10.0/10.0 MB 22.0 MB/s eta 0:00:01\n",
      "   ---------------------------------------  10.0/10.0 MB 22.0 MB/s eta 0:00:01\n",
      "   ---------------------------------------  10.0/10.0 MB 22.0 MB/s eta 0:00:01\n",
      "   ---------------------------------------  10.0/10.0 MB 22.0 MB/s eta 0:00:01\n",
      "   ---------------------------------------  10.0/10.0 MB 22.0 MB/s eta 0:00:01\n",
      "   ---------------------------------------  10.0/10.0 MB 22.0 MB/s eta 0:00:01\n",
      "   ---------------------------------------  10.0/10.0 MB 22.0 MB/s eta 0:00:01\n",
      "   ---------------------------------------  10.0/10.0 MB 22.0 MB/s eta 0:00:01\n",
      "   ---------------------------------------  10.0/10.0 MB 22.0 MB/s eta 0:00:01\n",
      "   ---------------------------------------  10.0/10.0 MB 22.0 MB/s eta 0:00:01\n",
      "   ---------------------------------------- 10.0/10.0 MB 10.4 MB/s eta 0:00:00\n",
      "Downloading trio-0.23.1-py3-none-any.whl (448 kB)\n",
      "   ---------------------------------------- 0.0/448.3 kB ? eta -:--:--\n",
      "   --------------------------------------  440.3/448.3 kB 26.9 MB/s eta 0:00:01\n",
      "   ---------------------------------------- 448.3/448.3 kB 9.3 MB/s eta 0:00:00\n",
      "Downloading trio_websocket-0.11.1-py3-none-any.whl (17 kB)\n",
      "Downloading outcome-1.3.0.post0-py2.py3-none-any.whl (10 kB)\n",
      "Installing collected packages: wsproto, sniffio, outcome, trio, trio-websocket, selenium\n",
      "  Attempting uninstall: sniffio\n",
      "    Found existing installation: sniffio 1.2.0\n",
      "    Uninstalling sniffio-1.2.0:\n",
      "      Successfully uninstalled sniffio-1.2.0\n",
      "Successfully installed outcome-1.3.0.post0 selenium-4.16.0 sniffio-1.3.0 trio-0.23.1 trio-websocket-0.11.1 wsproto-1.2.0\n",
      "Note: you may need to restart the kernel to use updated packages.\n"
     ]
    }
   ],
   "source": [
    "pip install selenium"
   ]
  },
  {
   "cell_type": "code",
   "execution_count": 2,
   "id": "813912da",
   "metadata": {
    "ExecuteTime": {
     "end_time": "2023-12-13T11:24:35.224585Z",
     "start_time": "2023-12-13T11:24:34.803390Z"
    }
   },
   "outputs": [],
   "source": [
    "from selenium import webdriver\n",
    "from selenium.webdriver.common.by import By\n",
    "from selenium.webdriver.chrome.options import Options\n",
    "import time\n",
    "\n",
    "options = Options() #options클래스의 인스턴스\n",
    "# options.add_argument(\"--start-maximized\")\n",
    "# options.add_argument(\"--headless=new\") \n",
    "options.add_experimental_option(\"detach\", True) #특정함수안에서  드라이버 생성시 함수종료될 때 브라우저 같이 종료되는 문제 대응"
   ]
  },
  {
   "cell_type": "code",
   "execution_count": 2,
   "id": "80a8e9b8",
   "metadata": {
    "ExecuteTime": {
     "end_time": "2023-12-13T07:20:29.266067Z",
     "start_time": "2023-12-13T07:20:20.714043Z"
    }
   },
   "outputs": [],
   "source": [
    "url = 'http://naver.com'\n",
    "driver = webdriver.Chrome(options=options) #options 인자에 위에서 생성한 인스턴스 삽입\n",
    "driver.get(url) #get url > 실행\n",
    "time.sleep(2) #코드 지연(렌더링 이후 코드 실행되도록)"
   ]
  },
  {
   "cell_type": "code",
   "execution_count": 4,
   "id": "699be6f5",
   "metadata": {
    "ExecuteTime": {
     "end_time": "2023-12-12T01:22:10.222592Z",
     "start_time": "2023-12-12T01:22:08.033390Z"
    }
   },
   "outputs": [],
   "source": [
    "driver.back()"
   ]
  },
  {
   "cell_type": "code",
   "execution_count": 5,
   "id": "142faf6c",
   "metadata": {
    "ExecuteTime": {
     "end_time": "2023-12-12T01:22:45.598565Z",
     "start_time": "2023-12-12T01:22:45.468940Z"
    }
   },
   "outputs": [],
   "source": [
    "driver.forward()"
   ]
  },
  {
   "cell_type": "code",
   "execution_count": 6,
   "id": "26f58e98",
   "metadata": {
    "ExecuteTime": {
     "end_time": "2023-12-12T01:23:04.755341Z",
     "start_time": "2023-12-12T01:23:03.936568Z"
    }
   },
   "outputs": [],
   "source": [
    "driver.refresh() #새로고침"
   ]
  },
  {
   "cell_type": "code",
   "execution_count": 8,
   "id": "d883c3c3",
   "metadata": {
    "ExecuteTime": {
     "end_time": "2023-12-12T01:24:25.003664Z",
     "start_time": "2023-12-12T01:24:24.963259Z"
    }
   },
   "outputs": [
    {
     "name": "stdout",
     "output_type": "stream",
     "text": [
      "NAVER https://www.naver.com/ 2B5B6A8775F12DE095ADBD0D88D92321\n"
     ]
    }
   ],
   "source": [
    "title = driver.title\n",
    "url = driver.current_url\n",
    "handle = driver.current_window_handle\n",
    "print(title,url,handle)"
   ]
  },
  {
   "cell_type": "code",
   "execution_count": 9,
   "id": "f244f3d2",
   "metadata": {
    "ExecuteTime": {
     "end_time": "2023-12-12T01:26:04.050665Z",
     "start_time": "2023-12-12T01:26:04.040023Z"
    }
   },
   "outputs": [],
   "source": [
    "driver.find_element?"
   ]
  },
  {
   "cell_type": "code",
   "execution_count": 10,
   "id": "aae452af",
   "metadata": {
    "ExecuteTime": {
     "end_time": "2023-12-12T01:29:15.666234Z",
     "start_time": "2023-12-12T01:29:15.543504Z"
    }
   },
   "outputs": [
    {
     "data": {
      "text/plain": [
       "<selenium.webdriver.remote.webelement.WebElement (session=\"ba2164e67377b2bd15f0c39dc31b414c\", element=\"F85849DE1DF4E9D2A7F1EE6E946BC54A_element_742\")>"
      ]
     },
     "execution_count": 10,
     "metadata": {},
     "output_type": "execute_result"
    }
   ],
   "source": [
    "driver.find_element(By.ID, 'query')"
   ]
  },
  {
   "cell_type": "code",
   "execution_count": 12,
   "id": "ba3e81e9",
   "metadata": {
    "ExecuteTime": {
     "end_time": "2023-12-12T01:31:16.762595Z",
     "start_time": "2023-12-12T01:31:16.562215Z"
    }
   },
   "outputs": [],
   "source": [
    "driver.find_element(By.ID, 'query').send_keys('감자')"
   ]
  },
  {
   "cell_type": "code",
   "execution_count": 13,
   "id": "9baeb00c",
   "metadata": {
    "ExecuteTime": {
     "end_time": "2023-12-12T01:32:03.538167Z",
     "start_time": "2023-12-12T01:32:03.323607Z"
    }
   },
   "outputs": [],
   "source": [
    "driver.find_element(By.CLASS_NAME, 'search_input').send_keys('고구마')"
   ]
  },
  {
   "cell_type": "code",
   "execution_count": 14,
   "id": "1e08a588",
   "metadata": {
    "ExecuteTime": {
     "end_time": "2023-12-12T01:35:48.522302Z",
     "start_time": "2023-12-12T01:35:48.198352Z"
    }
   },
   "outputs": [],
   "source": [
    "driver.find_element(By.CSS_SELECTOR, \".search_input\").send_keys('당근')"
   ]
  },
  {
   "cell_type": "code",
   "execution_count": 15,
   "id": "80916f8e",
   "metadata": {
    "ExecuteTime": {
     "end_time": "2023-12-12T01:36:05.356103Z",
     "start_time": "2023-12-12T01:36:05.160089Z"
    }
   },
   "outputs": [],
   "source": [
    "driver.find_element(By.CSS_SELECTOR, \"#query\").send_keys('오이')"
   ]
  },
  {
   "cell_type": "code",
   "execution_count": 16,
   "id": "c6847a88",
   "metadata": {
    "ExecuteTime": {
     "end_time": "2023-12-12T01:36:25.598859Z",
     "start_time": "2023-12-12T01:36:25.345656Z"
    }
   },
   "outputs": [],
   "source": [
    "driver.find_element(By.CSS_SELECTOR, \"[title='검색어를 입력해 주세요.']\").send_keys('가지')"
   ]
  },
  {
   "cell_type": "code",
   "execution_count": 17,
   "id": "19938ff9",
   "metadata": {
    "ExecuteTime": {
     "end_time": "2023-12-12T01:36:55.912842Z",
     "start_time": "2023-12-12T01:36:55.684415Z"
    }
   },
   "outputs": [],
   "source": [
    "driver.find_element(By.CSS_SELECTOR, \"[placeholder='검색어를 입력해 주세요.']\").send_keys('보리')"
   ]
  },
  {
   "cell_type": "code",
   "execution_count": 18,
   "id": "bc9a2f59",
   "metadata": {
    "ExecuteTime": {
     "end_time": "2023-12-12T01:37:10.173963Z",
     "start_time": "2023-12-12T01:37:09.840245Z"
    }
   },
   "outputs": [],
   "source": [
    "driver.find_element(By.XPATH,\"//*[@id='query']\").send_keys('밀')"
   ]
  },
  {
   "cell_type": "markdown",
   "id": "b8751c07",
   "metadata": {},
   "source": [
    "# 클릭"
   ]
  },
  {
   "cell_type": "code",
   "execution_count": 9,
   "id": "bf7aedfc",
   "metadata": {
    "ExecuteTime": {
     "end_time": "2023-12-13T05:04:09.278804Z",
     "start_time": "2023-12-13T05:04:08.999476Z"
    }
   },
   "outputs": [],
   "source": [
    "driver.find_element(By.LINK_TEXT, '쇼핑').click()"
   ]
  },
  {
   "cell_type": "code",
   "execution_count": 10,
   "id": "fe58d53b",
   "metadata": {
    "ExecuteTime": {
     "end_time": "2023-12-13T05:09:35.452767Z",
     "start_time": "2023-12-13T05:09:35.150733Z"
    }
   },
   "outputs": [],
   "source": [
    "# 일부 매칭\n",
    "driver.find_element(By.PARTIAL_LINK_TEXT, '쇼').click()"
   ]
  },
  {
   "cell_type": "code",
   "execution_count": 11,
   "id": "2a47ab7c",
   "metadata": {
    "ExecuteTime": {
     "end_time": "2023-12-13T05:10:01.437783Z",
     "start_time": "2023-12-13T05:10:01.392555Z"
    }
   },
   "outputs": [],
   "source": [
    "# 여러개의 요소를찾을 때\n",
    "links = driver.find_elements(By.CSS_SELECTOR, '.link_service')"
   ]
  },
  {
   "cell_type": "code",
   "execution_count": 12,
   "id": "de9e4969",
   "metadata": {
    "ExecuteTime": {
     "end_time": "2023-12-13T05:10:12.893730Z",
     "start_time": "2023-12-13T05:10:12.886481Z"
    }
   },
   "outputs": [
    {
     "name": "stdout",
     "output_type": "stream",
     "text": [
      "<selenium.webdriver.remote.webelement.WebElement (session=\"305f7381dd01f3de07b75aab7d025f86\", element=\"87AEFDBE5F2A1593AD6B552192539578_element_544\")>\n",
      "<selenium.webdriver.remote.webelement.WebElement (session=\"305f7381dd01f3de07b75aab7d025f86\", element=\"87AEFDBE5F2A1593AD6B552192539578_element_547\")>\n",
      "<selenium.webdriver.remote.webelement.WebElement (session=\"305f7381dd01f3de07b75aab7d025f86\", element=\"87AEFDBE5F2A1593AD6B552192539578_element_550\")>\n",
      "<selenium.webdriver.remote.webelement.WebElement (session=\"305f7381dd01f3de07b75aab7d025f86\", element=\"87AEFDBE5F2A1593AD6B552192539578_element_553\")>\n",
      "<selenium.webdriver.remote.webelement.WebElement (session=\"305f7381dd01f3de07b75aab7d025f86\", element=\"87AEFDBE5F2A1593AD6B552192539578_element_556\")>\n",
      "<selenium.webdriver.remote.webelement.WebElement (session=\"305f7381dd01f3de07b75aab7d025f86\", element=\"87AEFDBE5F2A1593AD6B552192539578_element_559\")>\n",
      "<selenium.webdriver.remote.webelement.WebElement (session=\"305f7381dd01f3de07b75aab7d025f86\", element=\"87AEFDBE5F2A1593AD6B552192539578_element_562\")>\n",
      "<selenium.webdriver.remote.webelement.WebElement (session=\"305f7381dd01f3de07b75aab7d025f86\", element=\"87AEFDBE5F2A1593AD6B552192539578_element_565\")>\n",
      "<selenium.webdriver.remote.webelement.WebElement (session=\"305f7381dd01f3de07b75aab7d025f86\", element=\"87AEFDBE5F2A1593AD6B552192539578_element_568\")>\n",
      "<selenium.webdriver.remote.webelement.WebElement (session=\"305f7381dd01f3de07b75aab7d025f86\", element=\"87AEFDBE5F2A1593AD6B552192539578_element_571\")>\n"
     ]
    }
   ],
   "source": [
    "for link in links:\n",
    "    print(link)"
   ]
  },
  {
   "cell_type": "code",
   "execution_count": 13,
   "id": "83d6aba4",
   "metadata": {
    "ExecuteTime": {
     "end_time": "2023-12-13T05:10:56.486828Z",
     "start_time": "2023-12-13T05:10:56.087821Z"
    },
    "scrolled": true
   },
   "outputs": [
    {
     "name": "stdout",
     "output_type": "stream",
     "text": [
      "<a href=\"https://mail.naver.com\" class=\"link_service\" target=\"_blank\"><span class=\"service_icon type_mail\"></span><span class=\"service_name\">메일</span></a>\n",
      "\n",
      "<a href=\"https://cafe.naver.com\" class=\"link_service\" target=\"_blank\"><span class=\"service_icon type_cafe\"></span><span class=\"service_name\">카페</span></a>\n",
      "\n",
      "<a href=\"https://blog.naver.com\" class=\"link_service\" target=\"_blank\"><span class=\"service_icon type_blog\"></span><span class=\"service_name\">블로그</span></a>\n",
      "\n",
      "<a href=\"https://shopping.naver.com/home\" class=\"link_service\" target=\"_blank\"><span class=\"service_icon type_shopping\"></span><span class=\"service_name\">쇼핑</span></a>\n",
      "\n",
      "<a href=\"https://news.naver.com/\" class=\"link_service\" target=\"_blank\"><span class=\"service_icon type_news\"></span><span class=\"service_name\">뉴스</span></a>\n",
      "\n",
      "<a href=\"https://finance.naver.com/\" class=\"link_service\" target=\"_blank\"><span class=\"service_icon type_stock\"></span><span class=\"service_name\">증권</span></a>\n",
      "\n",
      "<a href=\"https://land.naver.com/\" class=\"link_service\" target=\"_blank\"><span class=\"service_icon type_real\"></span><span class=\"service_name\">부동산</span></a>\n",
      "\n",
      "<a href=\"https://map.naver.com\" class=\"link_service\" target=\"_blank\"><span class=\"service_icon type_map\"></span><span class=\"service_name\">지도</span></a>\n",
      "\n",
      "<a href=\"https://comic.naver.com\" class=\"link_service\" target=\"_blank\"><span class=\"service_icon type_webtoon\"></span><span class=\"service_name\">웹툰</span></a>\n",
      "\n",
      "<a href=\"#\" class=\"link_service\" role=\"button\"><span class=\"service_icon type_more\"></span><span class=\"blind\">바로가기 펼침</span></a>\n",
      "\n"
     ]
    }
   ],
   "source": [
    "for link in links:\n",
    "    print(link.get_attribute('outerHTML'))\n",
    "    print() #자식 html 출력, 공백출력"
   ]
  },
  {
   "cell_type": "markdown",
   "id": "d555be1a",
   "metadata": {},
   "source": [
    "# 자동 로그인"
   ]
  },
  {
   "cell_type": "code",
   "execution_count": 3,
   "id": "a4ddcc93",
   "metadata": {
    "ExecuteTime": {
     "end_time": "2023-12-13T11:24:47.259972Z",
     "start_time": "2023-12-13T11:24:43.195305Z"
    }
   },
   "outputs": [],
   "source": [
    "url = 'file:///C:\\python\\sample/signin.html'\n",
    "driver = webdriver.Chrome(options=options)\n",
    "driver.get(url)"
   ]
  },
  {
   "cell_type": "code",
   "execution_count": 4,
   "id": "1cec6e61",
   "metadata": {
    "ExecuteTime": {
     "end_time": "2023-12-13T07:27:24.092755Z",
     "start_time": "2023-12-13T07:27:23.854202Z"
    }
   },
   "outputs": [],
   "source": [
    "username = driver.find_element(By.NAME, 'username')\n",
    "username.send_keys('korea')"
   ]
  },
  {
   "cell_type": "code",
   "execution_count": 5,
   "id": "022f6011",
   "metadata": {
    "ExecuteTime": {
     "end_time": "2023-12-13T07:30:29.183737Z",
     "start_time": "2023-12-13T07:30:28.912205Z"
    }
   },
   "outputs": [],
   "source": [
    "username=driver.find_element(By.NAME, 'password')\n",
    "username.send_keys('abc123')"
   ]
  },
  {
   "cell_type": "code",
   "execution_count": 7,
   "id": "a2e531ff",
   "metadata": {
    "ExecuteTime": {
     "end_time": "2023-12-13T07:32:56.146687Z",
     "start_time": "2023-12-13T07:32:55.914318Z"
    }
   },
   "outputs": [],
   "source": [
    "login=driver.find_element(By.XPATH, '//*[@id=\"loginForm\"]/input[3]')\n",
    "login.click()"
   ]
  },
  {
   "cell_type": "code",
   "execution_count": 8,
   "id": "285629be",
   "metadata": {
    "ExecuteTime": {
     "end_time": "2023-12-13T07:33:50.467162Z",
     "start_time": "2023-12-13T07:33:50.256335Z"
    }
   },
   "outputs": [],
   "source": [
    "#만약 value로 하고싶으면\n",
    "login =  driver.find_element(By.CSS_SELECTOR, \"[value='Login']\")\n",
    "login.click()"
   ]
  },
  {
   "cell_type": "code",
   "execution_count": 9,
   "id": "ceeeb90f",
   "metadata": {
    "ExecuteTime": {
     "end_time": "2023-12-13T07:39:49.299068Z",
     "start_time": "2023-12-13T07:39:49.279112Z"
    }
   },
   "outputs": [
    {
     "data": {
      "text/plain": [
       "'<html><head></head><body>\\n        <h1> Sign In </h1>\\n        <form action=\"moved.html\" id=\"loginForm\">\\n            ID : <input name=\"username\" type=\"text\"> <br>\\n            Password : <input name=\"password\" type=\"password\"> <br>\\n\\n            <input name=\"continue\" type=\"submit\" value=\"Login\">\\n            <input name=\"continue\" type=\"button\" value=\"Clear\">\\n        \\n        </form>\\n\\n        <p>Are you sure you want to do this?</p>\\n        <a href=\"continue.html\">Continue</a>\\n        <a href=\"cancel.html\">Cancel</a>\\n\\n        <h1>Welcome</h1>\\n        <p>Site content goes here.</p>\\n        <p class=\"content\">Site content goes here.</p>\\n    \\n</body></html>'"
      ]
     },
     "execution_count": 9,
     "metadata": {},
     "output_type": "execute_result"
    }
   ],
   "source": [
    "#html 소스\n",
    "driver.page_source"
   ]
  },
  {
   "cell_type": "code",
   "execution_count": 4,
   "id": "ac486c1f",
   "metadata": {
    "ExecuteTime": {
     "end_time": "2023-12-13T11:24:54.578998Z",
     "start_time": "2023-12-13T11:24:54.288744Z"
    }
   },
   "outputs": [],
   "source": [
    "driver.close()"
   ]
  },
  {
   "cell_type": "markdown",
   "id": "63bac09f",
   "metadata": {},
   "source": [
    "# options"
   ]
  },
  {
   "cell_type": "code",
   "execution_count": 1,
   "id": "4acc4c34",
   "metadata": {
    "ExecuteTime": {
     "end_time": "2023-12-17T03:47:20.973276Z",
     "start_time": "2023-12-17T03:47:20.824431Z"
    }
   },
   "outputs": [],
   "source": [
    "from selenium import webdriver\n",
    "from selenium.webdriver.common.by import By\n",
    "from selenium.webdriver.chrome.options import Options\n",
    "import time\n",
    "\n",
    "options = Options()\n",
    "# options.add_argument(\"--headless=new\") \n",
    "# options.add_argument('--window-size= x, y') #실행되는 브라우저 크기를 지정할 수 있습니다.\n",
    "# options.add_argument('--start-maximized') #브라우저가 최대화된 상태로 실행됩니다.\n",
    "# options.add_argument('--start-fullscreen') #브라우저가 풀스크린 모드(F11)로 실행됩니다.\n",
    "# options.add_argument('--blink-settings=imagesEnabled=false') #브라우저에서 이미지 로딩을 하지 않습니다.\n",
    "# options.add_argument('--mute-audio') #브라우저에 음소거 옵션을 적용합니다.\n",
    "# options.add_argument('incognito') #시크릿 모드의 브라우저가 실행됩니다.\n",
    "# options.add_experimental_option(\"detach\", True) #특정함수안에서  드라이버 생성시 함수종료될 때 브라우저 같이 종료되는 문제 대응"
   ]
  },
  {
   "cell_type": "code",
   "execution_count": 3,
   "id": "ed459376",
   "metadata": {
    "ExecuteTime": {
     "end_time": "2023-12-17T03:47:59.636891Z",
     "start_time": "2023-12-17T03:47:54.997468Z"
    }
   },
   "outputs": [],
   "source": [
    "url = 'http://naver.com'\n",
    "driver = webdriver.Chrome(options=options)\n",
    "driver.get(url)\n",
    "time.sleep(2)"
   ]
  },
  {
   "cell_type": "code",
   "execution_count": 15,
   "id": "63e90748",
   "metadata": {
    "ExecuteTime": {
     "end_time": "2023-12-13T08:30:36.737309Z",
     "start_time": "2023-12-13T08:30:36.696049Z"
    }
   },
   "outputs": [
    {
     "name": "stdout",
     "output_type": "stream",
     "text": [
      "NAVER\n"
     ]
    }
   ],
   "source": [
    "print(driver.title)"
   ]
  },
  {
   "cell_type": "code",
   "execution_count": 16,
   "id": "1b69274f",
   "metadata": {
    "ExecuteTime": {
     "end_time": "2023-12-13T08:30:51.098095Z",
     "start_time": "2023-12-13T08:30:48.606972Z"
    }
   },
   "outputs": [],
   "source": [
    "driver.quit()"
   ]
  },
  {
   "cell_type": "markdown",
   "id": "2056ad2d",
   "metadata": {},
   "source": [
    "# 윈도우 컨트롤"
   ]
  },
  {
   "cell_type": "code",
   "execution_count": 5,
   "id": "0b200a68",
   "metadata": {
    "ExecuteTime": {
     "end_time": "2023-12-13T11:25:17.020023Z",
     "start_time": "2023-12-13T11:25:06.395444Z"
    }
   },
   "outputs": [],
   "source": [
    "from selenium import webdriver\n",
    "from selenium.webdriver.common.by import By\n",
    "from selenium.webdriver.chrome.options import Options\n",
    "import time\n",
    "options=Options()\n",
    "options.add_experimental_option(\"detach\", True) #스크립트 종료 후에도 브라우저 유지\n",
    "\n",
    "url = 'http://naver.com'\n",
    "driver = webdriver.Chrome(options=options)\n",
    "driver.get(url)\n",
    "time.sleep(2)"
   ]
  },
  {
   "cell_type": "markdown",
   "id": "c0b193b7",
   "metadata": {},
   "source": [
    "# 창 컨트롤"
   ]
  },
  {
   "cell_type": "code",
   "execution_count": 23,
   "id": "06e00a62",
   "metadata": {
    "ExecuteTime": {
     "end_time": "2023-12-13T10:22:04.011239Z",
     "start_time": "2023-12-13T10:22:03.995329Z"
    }
   },
   "outputs": [
    {
     "name": "stdout",
     "output_type": "stream",
     "text": [
      "1051px 806px\n"
     ]
    }
   ],
   "source": [
    "# 창의 너비, 높이 구하기\n",
    "size = driver.get_window_size()\n",
    "width=size.get('width')\n",
    "height=size.get('height')\n",
    "\n",
    "print (str(width)+'px'+' '+str(height)+'px')"
   ]
  },
  {
   "cell_type": "code",
   "execution_count": 24,
   "id": "906a097f",
   "metadata": {
    "ExecuteTime": {
     "end_time": "2023-12-13T10:22:29.256388Z",
     "start_time": "2023-12-13T10:22:28.603546Z"
    }
   },
   "outputs": [],
   "source": [
    "#창 크기 조절\n",
    "driver.set_window_size(800,600)"
   ]
  },
  {
   "cell_type": "code",
   "execution_count": 7,
   "id": "a56f3669",
   "metadata": {
    "ExecuteTime": {
     "end_time": "2023-12-13T11:25:34.442621Z",
     "start_time": "2023-12-13T11:25:34.432456Z"
    }
   },
   "outputs": [
    {
     "name": "stdout",
     "output_type": "stream",
     "text": [
      "x: 9 y: 9\n"
     ]
    }
   ],
   "source": [
    "#창 좌표\n",
    "position = driver.get_window_position()\n",
    "x = position.get('x')\n",
    "y = position.get('y')\n",
    "\n",
    "print('x: '+str(x)+\" \"+'y: '+str(y))"
   ]
  },
  {
   "cell_type": "code",
   "execution_count": 10,
   "id": "0b7da107",
   "metadata": {
    "ExecuteTime": {
     "end_time": "2023-12-13T11:26:43.808130Z",
     "start_time": "2023-12-13T11:26:43.406279Z"
    }
   },
   "outputs": [
    {
     "data": {
      "text/plain": [
       "{'height': 807, 'width': 1053, 'x': 9, 'y': 9}"
      ]
     },
     "execution_count": 10,
     "metadata": {},
     "output_type": "execute_result"
    }
   ],
   "source": [
    "driver.set_window_position(10,10)"
   ]
  },
  {
   "cell_type": "code",
   "execution_count": 8,
   "id": "8699d1ac",
   "metadata": {
    "ExecuteTime": {
     "end_time": "2023-12-13T11:26:04.939080Z",
     "start_time": "2023-12-13T11:26:04.505329Z"
    }
   },
   "outputs": [],
   "source": [
    "#창 크기 조절\n",
    "driver.maximize_window()"
   ]
  },
  {
   "cell_type": "code",
   "execution_count": 9,
   "id": "99580bd9",
   "metadata": {
    "ExecuteTime": {
     "end_time": "2023-12-13T11:26:18.707508Z",
     "start_time": "2023-12-13T11:26:18.394483Z"
    }
   },
   "outputs": [],
   "source": [
    "driver.minimize_window()"
   ]
  },
  {
   "cell_type": "code",
   "execution_count": 11,
   "id": "37cf89bb",
   "metadata": {
    "ExecuteTime": {
     "end_time": "2023-12-13T11:27:26.900581Z",
     "start_time": "2023-12-13T11:27:26.263538Z"
    }
   },
   "outputs": [],
   "source": [
    "driver.fullscreen_window()"
   ]
  },
  {
   "cell_type": "code",
   "execution_count": 12,
   "id": "d76d8997",
   "metadata": {
    "ExecuteTime": {
     "end_time": "2023-12-13T11:28:51.997459Z",
     "start_time": "2023-12-13T11:28:51.464601Z"
    }
   },
   "outputs": [
    {
     "data": {
      "text/plain": [
       "True"
      ]
     },
     "execution_count": 12,
     "metadata": {},
     "output_type": "execute_result"
    }
   ],
   "source": [
    "#스크린샷\n",
    "driver.save_screenshot('./image.png')"
   ]
  },
  {
   "cell_type": "code",
   "execution_count": 13,
   "id": "0297f038",
   "metadata": {
    "ExecuteTime": {
     "end_time": "2023-12-13T11:30:17.792486Z",
     "start_time": "2023-12-13T11:30:17.555713Z"
    }
   },
   "outputs": [],
   "source": [
    "driver.close()"
   ]
  },
  {
   "cell_type": "markdown",
   "id": "b6a08fe9",
   "metadata": {},
   "source": [
    "# excute_script()"
   ]
  },
  {
   "cell_type": "code",
   "execution_count": 14,
   "id": "132f3c5a",
   "metadata": {
    "ExecuteTime": {
     "end_time": "2023-12-13T12:44:57.739800Z",
     "start_time": "2023-12-13T12:44:57.735868Z"
    }
   },
   "outputs": [],
   "source": [
    "#화면상 스크롤 위치 이동 : scrollTo(x,Y) ,scrollTo(x,Y+number)\n",
    "#화면 최하단으로 스크롤 이동 : scrollTo(0, document.body.scrollHeight)\n",
    "#화면을 움직이고 페이지 로드 기다리기 : time.sleep(second)\n",
    "#함수 호출시 전달인자들이 배열 형태로 저장된 객체 : arguments \n",
    "    #(arguments[0].click(), sample)\n",
    "    # sample요소의 첫번째 인자에 click()을 명령"
   ]
  },
  {
   "cell_type": "code",
   "execution_count": 8,
   "id": "8376660e",
   "metadata": {
    "ExecuteTime": {
     "end_time": "2023-12-17T03:56:48.898525Z",
     "start_time": "2023-12-17T03:56:04.836562Z"
    }
   },
   "outputs": [],
   "source": [
    "#네이버 뷰는 최대 1050까지만 노출 # 스크롤 10번\n",
    "import random\n",
    "from selenium import webdriver\n",
    "for i in range(10):\n",
    "    driver.execute_script('window.scrollTo(0, document.body.scrollHeight);')\n",
    "    time.sleep(random.randint(2, 3))  #2에서 3 사이 랜덤한 대기ㅣ시간\n",
    "    time.sleep(2)"
   ]
  },
  {
   "cell_type": "code",
   "execution_count": 10,
   "id": "48d051a4",
   "metadata": {
    "ExecuteTime": {
     "end_time": "2023-12-17T03:58:34.675158Z",
     "start_time": "2023-12-17T03:57:44.219297Z"
    }
   },
   "outputs": [],
   "source": [
    "#만약 상단에서 하단으로의 작업을 반복하고 싶다면?\n",
    "import time\n",
    "import random\n",
    "from selenium import webdriver\n",
    "\n",
    "for i in range(10):\n",
    "    # 최하단으로 스크롤\n",
    "    driver.execute_script('window.scrollTo(0, document.body.scrollHeight);')\n",
    "    time.sleep(random.uniform(2, 3))  # 랜덤 대기 시간\n",
    "\n",
    "    # 최상단으로 스크롤\n",
    "    driver.execute_script('window.scrollTo(0, 0);')\n",
    "    time.sleep(random.uniform(2, 3))"
   ]
  },
  {
   "cell_type": "code",
   "execution_count": 11,
   "id": "6ea5bebb",
   "metadata": {
    "ExecuteTime": {
     "end_time": "2023-12-17T04:11:49.294324Z",
     "start_time": "2023-12-17T04:11:49.278930Z"
    }
   },
   "outputs": [
    {
     "name": "stdout",
     "output_type": "stream",
     "text": [
      "완료\n"
     ]
    }
   ],
   "source": [
    "# get_view()\n",
    "views = driver.find_elements(By.CSS_SELECTOR, '.lst_view .bx')\n",
    "result = []\n",
    "\n",
    "for view in views:\n",
    "    con_dict = {}\n",
    "    con_dict['title'] = view.find_element(By.CSS_SELECTOR, '.title_link').text\n",
    "    con_dict['text'] = view.find_element(By.CSS_SELECTOR, '.dsc_link').text\n",
    "    con_dict['date'] = view.find_element(By.CSS_SELECTOR, '.sub').text\n",
    "    result.append(con_dict)\n",
    "    print(con_dict)\n",
    "    \n",
    "print('완료')"
   ]
  },
  {
   "cell_type": "code",
   "execution_count": 14,
   "id": "f642b311",
   "metadata": {
    "ExecuteTime": {
     "end_time": "2023-12-17T04:12:35.039743Z",
     "start_time": "2023-12-17T04:12:34.475602Z"
    }
   },
   "outputs": [
    {
     "data": {
      "text/html": [
       "<div>\n",
       "<style scoped>\n",
       "    .dataframe tbody tr th:only-of-type {\n",
       "        vertical-align: middle;\n",
       "    }\n",
       "\n",
       "    .dataframe tbody tr th {\n",
       "        vertical-align: top;\n",
       "    }\n",
       "\n",
       "    .dataframe thead th {\n",
       "        text-align: right;\n",
       "    }\n",
       "</style>\n",
       "<table border=\"1\" class=\"dataframe\">\n",
       "  <thead>\n",
       "    <tr style=\"text-align: right;\">\n",
       "      <th></th>\n",
       "    </tr>\n",
       "  </thead>\n",
       "  <tbody>\n",
       "  </tbody>\n",
       "</table>\n",
       "</div>"
      ],
      "text/plain": [
       "Empty DataFrame\n",
       "Columns: []\n",
       "Index: []"
      ]
     },
     "execution_count": 14,
     "metadata": {},
     "output_type": "execute_result"
    }
   ],
   "source": [
    "#저장된 게시물 리스트를 데이터프레임으로 변환후 csv로 저장\n",
    "import pandas as pd\n",
    "df = pd.DataFrame(result)\n",
    "df"
   ]
  },
  {
   "cell_type": "code",
   "execution_count": null,
   "id": "91d20e31",
   "metadata": {
    "ExecuteTime": {
     "end_time": "2023-12-17T04:16:44.452938Z",
     "start_time": "2023-12-17T04:16:44.433940Z"
    }
   },
   "outputs": [],
   "source": []
  },
  {
   "cell_type": "code",
   "execution_count": null,
   "id": "5411f29f",
   "metadata": {},
   "outputs": [],
   "source": []
  }
 ],
 "metadata": {
  "kernelspec": {
   "display_name": "Python 3 (ipykernel)",
   "language": "python",
   "name": "python3"
  },
  "language_info": {
   "codemirror_mode": {
    "name": "ipython",
    "version": 3
   },
   "file_extension": ".py",
   "mimetype": "text/x-python",
   "name": "python",
   "nbconvert_exporter": "python",
   "pygments_lexer": "ipython3",
   "version": "3.11.5"
  },
  "toc": {
   "base_numbering": 1,
   "nav_menu": {},
   "number_sections": true,
   "sideBar": true,
   "skip_h1_title": false,
   "title_cell": "Table of Contents",
   "title_sidebar": "Contents",
   "toc_cell": false,
   "toc_position": {},
   "toc_section_display": true,
   "toc_window_display": false
  }
 },
 "nbformat": 4,
 "nbformat_minor": 5
}
